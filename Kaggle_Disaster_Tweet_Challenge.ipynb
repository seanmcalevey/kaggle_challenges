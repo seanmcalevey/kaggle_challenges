{
  "nbformat": 4,
  "nbformat_minor": 0,
  "metadata": {
    "colab": {
      "name": "Kaggle Disaster Tweet Challenge.ipynb",
      "provenance": [],
      "machine_shape": "hm",
      "authorship_tag": "ABX9TyP4hqTouS6ovjA1+ISW9NU/",
      "include_colab_link": true
    },
    "kernelspec": {
      "name": "python3",
      "display_name": "Python 3"
    },
    "accelerator": "GPU"
  },
  "cells": [
    {
      "cell_type": "markdown",
      "metadata": {
        "id": "view-in-github",
        "colab_type": "text"
      },
      "source": [
        "<a href=\"https://colab.research.google.com/github/seanmcalevey/kaggle_challenges/blob/master/Kaggle_Disaster_Tweet_Challenge.ipynb\" target=\"_parent\"><img src=\"https://colab.research.google.com/assets/colab-badge.svg\" alt=\"Open In Colab\"/></a>"
      ]
    },
    {
      "cell_type": "code",
      "metadata": {
        "id": "CkCxi1jpBFJF",
        "colab_type": "code",
        "colab": {}
      },
      "source": [
        "import numpy as np\n",
        "import pandas as pd\n",
        "import matplotlib.pyplot as plt\n",
        "import re"
      ],
      "execution_count": 0,
      "outputs": []
    },
    {
      "cell_type": "code",
      "metadata": {
        "id": "g6DzC3juCbxQ",
        "colab_type": "code",
        "colab": {}
      },
      "source": [
        "from google.colab import drive\n",
        "\n",
        "drive.mount('/content/drive/', force_remount=True)"
      ],
      "execution_count": 0,
      "outputs": []
    },
    {
      "cell_type": "markdown",
      "metadata": {
        "id": "dwJnTMeY8ilV",
        "colab_type": "text"
      },
      "source": [
        "### Import Data"
      ]
    },
    {
      "cell_type": "code",
      "metadata": {
        "id": "EomnAoyEBGkV",
        "colab_type": "code",
        "outputId": "85dfba13-9566-4176-ff17-f4c09a3915d0",
        "colab": {
          "base_uri": "https://localhost:8080/",
          "height": 287
        }
      },
      "source": [
        "os.chdir('/content')\n",
        "\n",
        "df = pd.read_csv('train-kaggle-nlp.csv')\n",
        "\n",
        "df.sample(8)"
      ],
      "execution_count": 0,
      "outputs": [
        {
          "output_type": "execute_result",
          "data": {
            "text/html": [
              "<div>\n",
              "<style scoped>\n",
              "    .dataframe tbody tr th:only-of-type {\n",
              "        vertical-align: middle;\n",
              "    }\n",
              "\n",
              "    .dataframe tbody tr th {\n",
              "        vertical-align: top;\n",
              "    }\n",
              "\n",
              "    .dataframe thead th {\n",
              "        text-align: right;\n",
              "    }\n",
              "</style>\n",
              "<table border=\"1\" class=\"dataframe\">\n",
              "  <thead>\n",
              "    <tr style=\"text-align: right;\">\n",
              "      <th></th>\n",
              "      <th>id</th>\n",
              "      <th>keyword</th>\n",
              "      <th>location</th>\n",
              "      <th>text</th>\n",
              "      <th>target</th>\n",
              "    </tr>\n",
              "  </thead>\n",
              "  <tbody>\n",
              "    <tr>\n",
              "      <th>5975</th>\n",
              "      <td>8531</td>\n",
              "      <td>screaming</td>\n",
              "      <td>justin &amp; ari follow || tvd</td>\n",
              "      <td>@justinbieber @ArianaGrande SCREAMING</td>\n",
              "      <td>0</td>\n",
              "    </tr>\n",
              "    <tr>\n",
              "      <th>5629</th>\n",
              "      <td>8029</td>\n",
              "      <td>refugees</td>\n",
              "      <td>NaN</td>\n",
              "      <td>Short of throwing them overboard himself I don't think any other leader could do much worse by #...</td>\n",
              "      <td>1</td>\n",
              "    </tr>\n",
              "    <tr>\n",
              "      <th>3342</th>\n",
              "      <td>4786</td>\n",
              "      <td>evacuated</td>\n",
              "      <td>NaN</td>\n",
              "      <td>ALERT! Sandy Hook Elementary School Evacuated After Û÷Bomb ThreatÛª http://t.co/LwLexXjUS8</td>\n",
              "      <td>1</td>\n",
              "    </tr>\n",
              "    <tr>\n",
              "      <th>913</th>\n",
              "      <td>1320</td>\n",
              "      <td>bloody</td>\n",
              "      <td>Storybrooke</td>\n",
              "      <td>@chxrmingprince @jones_luna I should bloody hope so *she said folding her arms sitting back in h...</td>\n",
              "      <td>0</td>\n",
              "    </tr>\n",
              "    <tr>\n",
              "      <th>6435</th>\n",
              "      <td>9208</td>\n",
              "      <td>suicide%20bombing</td>\n",
              "      <td>NaN</td>\n",
              "      <td>@JewhadiTM It is almost amazing to think someone thought suicide bombing would actually be a goo...</td>\n",
              "      <td>1</td>\n",
              "    </tr>\n",
              "    <tr>\n",
              "      <th>4936</th>\n",
              "      <td>7031</td>\n",
              "      <td>mayhem</td>\n",
              "      <td>NaN</td>\n",
              "      <td>Slayer Reflects on Low Mayhem Festival Attendance King Diamond &amp;amp; Jeff Hanneman's Passing htt...</td>\n",
              "      <td>0</td>\n",
              "    </tr>\n",
              "    <tr>\n",
              "      <th>1323</th>\n",
              "      <td>1914</td>\n",
              "      <td>burning</td>\n",
              "      <td>Australian Capital Territory</td>\n",
              "      <td>#?x?: :and to counter acts such as the burning of the Alexandrian library.</td>\n",
              "      <td>1</td>\n",
              "    </tr>\n",
              "    <tr>\n",
              "      <th>1093</th>\n",
              "      <td>1579</td>\n",
              "      <td>bombed</td>\n",
              "      <td>Dundas, Ontario</td>\n",
              "      <td>Jays rocking #MLB @JoeyBats19 just bombed one out of Rogers Centre. Play-offs r ahead for The #B...</td>\n",
              "      <td>0</td>\n",
              "    </tr>\n",
              "  </tbody>\n",
              "</table>\n",
              "</div>"
            ],
            "text/plain": [
              "        id  ... target\n",
              "5975  8531  ...      0\n",
              "5629  8029  ...      1\n",
              "3342  4786  ...      1\n",
              "913   1320  ...      0\n",
              "6435  9208  ...      1\n",
              "4936  7031  ...      0\n",
              "1323  1914  ...      1\n",
              "1093  1579  ...      0\n",
              "\n",
              "[8 rows x 5 columns]"
            ]
          },
          "metadata": {
            "tags": []
          },
          "execution_count": 44
        }
      ]
    },
    {
      "cell_type": "markdown",
      "metadata": {
        "id": "wiHHpYOs8fVs",
        "colab_type": "text"
      },
      "source": [
        "### Import Custom Function to Replace Contractions"
      ]
    },
    {
      "cell_type": "code",
      "metadata": {
        "id": "XI1ygc49Be0i",
        "colab_type": "code",
        "colab": {}
      },
      "source": [
        "import os\n",
        "\n",
        "os.chdir('/content/drive/My Drive')\n",
        "\n",
        "from summarizer_func_lib import replace_contraction"
      ],
      "execution_count": 0,
      "outputs": []
    },
    {
      "cell_type": "markdown",
      "metadata": {
        "id": "gpmuJ9Vt8dxZ",
        "colab_type": "text"
      },
      "source": [
        "### Clean Tweets"
      ]
    },
    {
      "cell_type": "code",
      "metadata": {
        "id": "nCwmDW4jBJRh",
        "colab_type": "code",
        "colab": {}
      },
      "source": [
        "clean_text = [re.sub('[^A-Za-z.@\\-\\#\\'\\s]', '', str(text)) for text in df['text']]\n",
        "\n",
        "split_word_nars = [tweet.split() for tweet in clean_text]\n",
        "\n",
        "new_words = []\n",
        "\n",
        "for nar in split_word_nars:\n",
        "    \n",
        "  nar_words = []\n",
        "\n",
        "  for word in nar:\n",
        "\n",
        "    if re.search('\\w+[.]', word):\n",
        "\n",
        "      splitted = word.split('.')\n",
        "\n",
        "      tmp_words = replace_contraction(splitted[0].lower())\n",
        "\n",
        "      for w in tmp_words.split():\n",
        "\n",
        "        nar_words.append(w)\n",
        "\n",
        "        nar_words.append('.')\n",
        "    \n",
        "    elif re.search('\\w+[;]', word):\n",
        "        \n",
        "      splitted = word.split(';')\n",
        "      \n",
        "      tmp_words = replace_contraction(splitted[0].lower())\n",
        "      \n",
        "      for w in tmp_words.split():\n",
        "          \n",
        "        nar_words.append(w)\n",
        "        \n",
        "        nar_words.append(';')\n",
        "\n",
        "    elif re.search('\\#\\w+', word):\n",
        "\n",
        "      splitted = word.split('#')\n",
        "\n",
        "      tmp_words = replace_contraction(splitted[1].lower())\n",
        "\n",
        "      for w in tmp_words.split():\n",
        "\n",
        "        nar_words.append('#') # reverse order because of # coming before words\n",
        "\n",
        "        nar_words.append(w)\n",
        "    \n",
        "    elif re.search('@\\w+', word):\n",
        "\n",
        "      splitted = word.split('@')\n",
        "\n",
        "      tmp_words = replace_contraction(splitted[1].lower())\n",
        "\n",
        "      for w in tmp_words.split():\n",
        "\n",
        "        nar_words.append('@')\n",
        "\n",
        "        nar_words.append(w)\n",
        "    \n",
        "    elif re.search('\\w+\\-\\w+', word):\n",
        "\n",
        "      splitted = word.split('-')\n",
        "\n",
        "      tmp_words = replace_contraction(splitted[0]. lower())\n",
        "\n",
        "      for w in tmp_words.split():\n",
        "\n",
        "        nar_words.append(w)\n",
        "      \n",
        "      tmp_words = replace_contraction(splitted[1].lower())\n",
        "\n",
        "      for w in tmp_words.split():\n",
        "\n",
        "        nar_words.append(w)\n",
        "\n",
        "    else:\n",
        "\n",
        "      tmp_words = replace_contraction(word)\n",
        "\n",
        "      for w in tmp_words.split():\n",
        "\n",
        "        nar_words.append(w)\n",
        "\n",
        "  nar_words = [word for word in nar_words]\n",
        "\n",
        "  new_words.append(' '.join(nar_words))\n",
        "\n",
        "texts = new_words\n",
        "\n",
        "df['clean_text'] = texts"
      ],
      "execution_count": 0,
      "outputs": []
    },
    {
      "cell_type": "markdown",
      "metadata": {
        "id": "T5XrD1aPVnL_",
        "colab_type": "text"
      },
      "source": [
        "### Lemmatize Cleaned Text (Optional, Dependent on Model Scores)"
      ]
    },
    {
      "cell_type": "code",
      "metadata": {
        "id": "nQcwqJhDVpJW",
        "colab_type": "code",
        "colab": {}
      },
      "source": [
        "import spacy\n",
        "\n",
        "lemmatizer = spacy.load('en', disable=['parser', 'ner'])\n",
        "\n",
        "lem_texts = []\n",
        "\n",
        "for text in texts:\n",
        "\n",
        "  lems = lemmatizer(text)\n",
        "\n",
        "  true_lems = [token.lemma_ for token in lems]\n",
        "\n",
        "  lem_texts.append(true_lems)\n",
        "\n",
        "df['lem_text'] = lem_texts"
      ],
      "execution_count": 0,
      "outputs": []
    },
    {
      "cell_type": "markdown",
      "metadata": {
        "id": "-TlRiXpf8lEv",
        "colab_type": "text"
      },
      "source": [
        "### View Text Samples"
      ]
    },
    {
      "cell_type": "code",
      "metadata": {
        "id": "GBsX5EstmT8e",
        "colab_type": "code",
        "outputId": "0d4621a6-9d20-4e0b-ed04-18a33713442a",
        "colab": {
          "base_uri": "https://localhost:8080/",
          "height": 212
        }
      },
      "source": [
        "pd.set_option('display.max_colwidth', 100)\n",
        "\n",
        "df['clean_text'].sample(10)"
      ],
      "execution_count": 0,
      "outputs": [
        {
          "output_type": "execute_result",
          "data": {
            "text/plain": [
              "3548    @ robertmeyer re your example low food prices cause farmers to go broke famine next year . means...\n",
              "5067                 Suncorp net profit rises to . billion in worst year of natural disaster claims httpt .\n",
              "1735    Crews working to restore power in southwest Omaha after vehicle collided with utility pole . - h...\n",
              "7562                                                                             you wrecked my whole world\n",
              "7453                         and I thought my surgical wounds were healed this weather ain't helping either\n",
              "1234                                       Fire destroys two buildings on nd Street in # manchester httpt .\n",
              "793                                                        @ demetae yes i want to be the new blight leader\n",
              "1051    Womens Handbags Cross Body Geometric Pattern Satchel Totes Shoulder Bags White httpt . httpt . R...\n",
              "2940                               Toddler drowned in bath after mum left room to fetch his pyjamas httpt .\n",
              "3806                Former Township fire truck being used in Philippines - Langley Times httpt . # filipino\n",
              "Name: clean_text, dtype: object"
            ]
          },
          "metadata": {
            "tags": []
          },
          "execution_count": 48
        }
      ]
    },
    {
      "cell_type": "markdown",
      "metadata": {
        "id": "jReM0tricUjF",
        "colab_type": "text"
      },
      "source": [
        "### Convert Locations to All Lowercase"
      ]
    },
    {
      "cell_type": "code",
      "metadata": {
        "id": "o2cRV0TdcED8",
        "colab_type": "code",
        "colab": {}
      },
      "source": [
        "clean_locs = []\n",
        "\n",
        "for loc in df['location']:\n",
        "  \n",
        "  try:\n",
        "\n",
        "    lowered = loc.lower()\n",
        "\n",
        "    clean_locs.append(lowered)\n",
        "  \n",
        "  except:\n",
        "\n",
        "    clean_locs.append(loc)\n",
        "\n",
        "df['location'] = clean_locs"
      ],
      "execution_count": 0,
      "outputs": []
    },
    {
      "cell_type": "markdown",
      "metadata": {
        "id": "6GAkEXLmJ7YC",
        "colab_type": "text"
      },
      "source": [
        "### Train Test Split"
      ]
    },
    {
      "cell_type": "code",
      "metadata": {
        "id": "rlGbX0pbBMzI",
        "colab_type": "code",
        "colab": {}
      },
      "source": [
        "from sklearn.model_selection import train_test_split\n",
        "\n",
        "X = df[['clean_text', 'keyword', 'location']]\n",
        "\n",
        "y = np.asarray(df['target']).reshape(-1,1)\n",
        "\n",
        "X_trainval, X_test_full, y_trainval, y_test = train_test_split(X, y, test_size=200, stratify=y, random_state=42)\n",
        "\n",
        "X_train_full, X_val_full, y_train, y_val = train_test_split(X_trainval, y_trainval, test_size=500, stratify=y_trainval,\n",
        "                                                  random_state=42)"
      ],
      "execution_count": 0,
      "outputs": []
    },
    {
      "cell_type": "markdown",
      "metadata": {
        "id": "zP2tpjXiBsyb",
        "colab_type": "text"
      },
      "source": [
        "### Split into Text Data and Categorical Data"
      ]
    },
    {
      "cell_type": "code",
      "metadata": {
        "id": "GwgvAe91BHLh",
        "colab_type": "code",
        "colab": {}
      },
      "source": [
        "X_train, X_val, X_test = X_train_full['clean_text'], X_val_full['clean_text'], X_test_full['clean_text']"
      ],
      "execution_count": 0,
      "outputs": []
    },
    {
      "cell_type": "markdown",
      "metadata": {
        "id": "62G7KS-dJ8nk",
        "colab_type": "text"
      },
      "source": [
        "### Tokenizer"
      ]
    },
    {
      "cell_type": "code",
      "metadata": {
        "id": "GkelOP5lBPvI",
        "colab_type": "code",
        "outputId": "29b8dbcf-166f-4785-d2f6-cb5fe258f600",
        "colab": {
          "base_uri": "https://localhost:8080/",
          "height": 34
        }
      },
      "source": [
        "import tensorflow\n",
        "from tensorflow.keras.preprocessing.text import Tokenizer\n",
        "\n",
        "corpus = list(X_train) + list(X_val) + list(X_test)\n",
        "\n",
        "max_words = 6553\n",
        "\n",
        "tokenizer = Tokenizer(num_words=max_words, filters='')\n",
        "\n",
        "tokenizer.fit_on_texts(corpus)\n",
        "\n",
        "X_train = tokenizer.texts_to_sequences(X_train)\n",
        "X_val = tokenizer.texts_to_sequences(X_val)\n",
        "X_test = tokenizer.texts_to_sequences(X_test)\n",
        "\n",
        "X_voc_size = max_words + 1\n",
        "\n",
        "X_voc_size"
      ],
      "execution_count": 0,
      "outputs": [
        {
          "output_type": "execute_result",
          "data": {
            "text/plain": [
              "6554"
            ]
          },
          "metadata": {
            "tags": []
          },
          "execution_count": 64
        }
      ]
    },
    {
      "cell_type": "markdown",
      "metadata": {
        "id": "6C3WmevYpma4",
        "colab_type": "text"
      },
      "source": [
        "### Import and Use Max_Word_Calc Func to Re-Tokenize"
      ]
    },
    {
      "cell_type": "code",
      "metadata": {
        "id": "OxBHWMEeoKya",
        "colab_type": "code",
        "outputId": "801a1f99-9be8-4d19-d07b-06041a47e0c8",
        "colab": {
          "base_uri": "https://localhost:8080/",
          "height": 34
        }
      },
      "source": [
        "from summarizer_func_lib import max_word_calc\n",
        "\n",
        "min_count = 2\n",
        "\n",
        "max_word_count = max_word_calc(tokenizer, min_count=min_count)\n",
        "\n",
        "max_word_count"
      ],
      "execution_count": 0,
      "outputs": [
        {
          "output_type": "execute_result",
          "data": {
            "text/plain": [
              "6553"
            ]
          },
          "metadata": {
            "tags": []
          },
          "execution_count": 60
        }
      ]
    },
    {
      "cell_type": "markdown",
      "metadata": {
        "id": "kO1VAd6dGaAM",
        "colab_type": "text"
      },
      "source": [
        "### Pad Sequences"
      ]
    },
    {
      "cell_type": "code",
      "metadata": {
        "id": "jryBQaqdGNVl",
        "colab_type": "code",
        "colab": {}
      },
      "source": [
        "from tensorflow.keras.preprocessing.sequence import pad_sequences\n",
        "\n",
        "max_len_text = 50\n",
        "\n",
        "X_train = pad_sequences(X_train, maxlen=max_len_text, padding='post')\n",
        "X_val = pad_sequences(X_val, maxlen=max_len_text, padding='post')\n",
        "X_test = pad_sequences(X_test, maxlen=max_len_text, padding='post')"
      ],
      "execution_count": 0,
      "outputs": []
    },
    {
      "cell_type": "markdown",
      "metadata": {
        "id": "m7qMvTNHGy2Z",
        "colab_type": "text"
      },
      "source": [
        "### Build Model"
      ]
    },
    {
      "cell_type": "code",
      "metadata": {
        "id": "j6X7eNheGuKx",
        "colab_type": "code",
        "outputId": "136fe549-4465-4920-efdf-448a07329c09",
        "colab": {
          "base_uri": "https://localhost:8080/",
          "height": 372
        }
      },
      "source": [
        "from tensorflow.keras.models import Sequential\n",
        "from tensorflow.keras.layers import LSTM, Dense, Dropout, Embedding, Bidirectional, Input\n",
        "from tensorflow.keras.regularizers import l1, l2\n",
        "\n",
        "n_neurons = 256\n",
        "\n",
        "emb_dim = 256\n",
        "\n",
        "emb_reg, layer_reg = l2(1e-8), l1(1e-8)\n",
        "\n",
        "dropout_rate = 0.5\n",
        "\n",
        "model = Sequential()\n",
        "\n",
        "model.add(Input(shape=[max_len_text,]))\n",
        "\n",
        "model.add(Embedding(X_voc_size, emb_dim, embeddings_regularizer=emb_reg, trainable=True))\n",
        "\n",
        "model.add(Dropout(dropout_rate))\n",
        "\n",
        "model.add(Bidirectional(LSTM(n_neurons, return_sequences=True, return_state=False,\n",
        "                             dropout=dropout_rate, kernel_regularizer=layer_reg)))\n",
        "\n",
        "model.add(Dense(n_neurons, activation='relu', kernel_regularizer=layer_reg))\n",
        "\n",
        "model.add(Dropout(dropout_rate))\n",
        "\n",
        "model.add(Dense(1, activation='sigmoid'))\n",
        "\n",
        "model.compile(loss='binary_crossentropy', optimizer='adamax', metrics=['accuracy'])\n",
        "\n",
        "model.summary()"
      ],
      "execution_count": 0,
      "outputs": [
        {
          "output_type": "stream",
          "text": [
            "Model: \"sequential_2\"\n",
            "_________________________________________________________________\n",
            "Layer (type)                 Output Shape              Param #   \n",
            "=================================================================\n",
            "embedding_2 (Embedding)      (None, 50, 256)           1677824   \n",
            "_________________________________________________________________\n",
            "dropout_4 (Dropout)          (None, 50, 256)           0         \n",
            "_________________________________________________________________\n",
            "bidirectional_2 (Bidirection (None, 50, 512)           1050624   \n",
            "_________________________________________________________________\n",
            "dense_4 (Dense)              (None, 50, 256)           131328    \n",
            "_________________________________________________________________\n",
            "dropout_5 (Dropout)          (None, 50, 256)           0         \n",
            "_________________________________________________________________\n",
            "dense_5 (Dense)              (None, 50, 1)             257       \n",
            "=================================================================\n",
            "Total params: 2,860,033\n",
            "Trainable params: 2,860,033\n",
            "Non-trainable params: 0\n",
            "_________________________________________________________________\n"
          ],
          "name": "stdout"
        }
      ]
    },
    {
      "cell_type": "markdown",
      "metadata": {
        "id": "7SEQion2Ia2C",
        "colab_type": "text"
      },
      "source": [
        "### Generate Image of Architecture"
      ]
    },
    {
      "cell_type": "code",
      "metadata": {
        "id": "Hhyltjr8IIAz",
        "colab_type": "code",
        "outputId": "1a7bccd3-8b3c-4e57-efae-50d0d9315e06",
        "colab": {
          "base_uri": "https://localhost:8080/",
          "height": 661
        }
      },
      "source": [
        "tensorflow.keras.utils.plot_model(model)"
      ],
      "execution_count": 0,
      "outputs": [
        {
          "output_type": "execute_result",
          "data": {
            "image/png": "[encoded data removed]",
            "text/plain": [
              "<IPython.core.display.Image object>"
            ]
          },
          "metadata": {
            "tags": []
          },
          "execution_count": 335
        }
      ]
    },
    {
      "cell_type": "markdown",
      "metadata": {
        "id": "gzE8KDlCJh6u",
        "colab_type": "text"
      },
      "source": [
        "### Checkpoints"
      ]
    },
    {
      "cell_type": "code",
      "metadata": {
        "id": "3egyrnfbIflq",
        "colab_type": "code",
        "outputId": "029c7bfd-091f-4ce2-82a3-489b26176dfe",
        "colab": {
          "base_uri": "https://localhost:8080/",
          "height": 52
        }
      },
      "source": [
        "from tensorflow.keras.callbacks import EarlyStopping\n",
        "from tensorflow.keras.callbacks import ModelCheckpoint\n",
        "\n",
        "# Early Stopping\n",
        "\n",
        "early_stop = EarlyStopping(monitor='val_loss', patience=3, restore_best_weights=True)\n",
        "\n",
        "# Checkpointing Model Weights\n",
        "\n",
        "import os\n",
        "\n",
        "checkpoint_path = 'checkpoints/cp-{epoch:03d}.ckpt'\n",
        "\n",
        "checkpoint_dir = os.path.dirname(checkpoint_path)\n",
        "\n",
        "checkpoint_cb = ModelCheckpoint(filepath=checkpoint_path, verbose=1, save_weights_only=True, period=1)\n",
        "\n",
        "latest_checkpoint = tensorflow.train.latest_checkpoint(checkpoint_dir)\n",
        "\n",
        "latest_checkpoint"
      ],
      "execution_count": 0,
      "outputs": [
        {
          "output_type": "stream",
          "text": [
            "WARNING:tensorflow:`period` argument is deprecated. Please use `save_freq` to specify the frequency in number of batches seen.\n"
          ],
          "name": "stdout"
        },
        {
          "output_type": "execute_result",
          "data": {
            "text/plain": [
              "'checkpoints/cp-004.ckpt'"
            ]
          },
          "metadata": {
            "tags": []
          },
          "execution_count": 71
        }
      ]
    },
    {
      "cell_type": "markdown",
      "metadata": {
        "id": "-pKO-V3zJjbt",
        "colab_type": "text"
      },
      "source": [
        "### Training"
      ]
    },
    {
      "cell_type": "code",
      "metadata": {
        "id": "15F-yqPtIsM2",
        "colab_type": "code",
        "outputId": "f9cd07e3-960c-4f9c-8eb5-7ecc88849261",
        "colab": {
          "base_uri": "https://localhost:8080/",
          "height": 641
        }
      },
      "source": [
        "batch_size = 256\n",
        "\n",
        "epochs = 12\n",
        "\n",
        "# model.load_weights(latest_checkpoint)\n",
        "\n",
        "history = model.fit(X_train, y_train, validation_data=(X_val, y_val), batch_size=batch_size, epochs=epochs,\n",
        "                    callbacks=[early_stop, checkpoint_cb])"
      ],
      "execution_count": 0,
      "outputs": [
        {
          "output_type": "stream",
          "text": [
            "Epoch 1/12\n"
          ],
          "name": "stdout"
        },
        {
          "output_type": "stream",
          "text": [
            "/usr/local/lib/python3.6/dist-packages/tensorflow/python/framework/indexed_slices.py:434: UserWarning: Converting sparse IndexedSlices to a dense Tensor of unknown shape. This may consume a large amount of memory.\n",
            "  \"Converting sparse IndexedSlices to a dense Tensor of unknown shape. \"\n"
          ],
          "name": "stderr"
        },
        {
          "output_type": "stream",
          "text": [
            "27/28 [===========================>..] - ETA: 0s - loss: 0.6740 - accuracy: 0.5914\n",
            "Epoch 00001: saving model to checkpoints/cp-001.ckpt\n",
            "28/28 [==============================] - 2s 83ms/step - loss: 0.6740 - accuracy: 0.5913 - val_loss: 0.6053 - val_accuracy: 0.7078\n",
            "Epoch 2/12\n",
            "27/28 [===========================>..] - ETA: 0s - loss: 0.5818 - accuracy: 0.7178\n",
            "Epoch 00002: saving model to checkpoints/cp-002.ckpt\n",
            "28/28 [==============================] - 1s 45ms/step - loss: 0.5818 - accuracy: 0.7178 - val_loss: 0.5609 - val_accuracy: 0.7319\n",
            "Epoch 3/12\n",
            "27/28 [===========================>..] - ETA: 0s - loss: 0.5111 - accuracy: 0.7705\n",
            "Epoch 00003: saving model to checkpoints/cp-003.ckpt\n",
            "28/28 [==============================] - 1s 51ms/step - loss: 0.5110 - accuracy: 0.7705 - val_loss: 0.5414 - val_accuracy: 0.7363\n",
            "Epoch 4/12\n",
            "27/28 [===========================>..] - ETA: 0s - loss: 0.4696 - accuracy: 0.7937\n",
            "Epoch 00004: saving model to checkpoints/cp-004.ckpt\n",
            "28/28 [==============================] - 1s 46ms/step - loss: 0.4696 - accuracy: 0.7936 - val_loss: 0.5323 - val_accuracy: 0.7377\n",
            "Epoch 5/12\n",
            "27/28 [===========================>..] - ETA: 0s - loss: 0.4436 - accuracy: 0.8082\n",
            "Epoch 00005: saving model to checkpoints/cp-005.ckpt\n",
            "28/28 [==============================] - 1s 49ms/step - loss: 0.4436 - accuracy: 0.8082 - val_loss: 0.5270 - val_accuracy: 0.7442\n",
            "Epoch 6/12\n",
            "27/28 [===========================>..] - ETA: 0s - loss: 0.4131 - accuracy: 0.8261\n",
            "Epoch 00006: saving model to checkpoints/cp-006.ckpt\n",
            "28/28 [==============================] - 1s 45ms/step - loss: 0.4132 - accuracy: 0.8260 - val_loss: 0.5345 - val_accuracy: 0.7422\n",
            "Epoch 7/12\n",
            "27/28 [===========================>..] - ETA: 0s - loss: 0.4218 - accuracy: 0.8243\n",
            "Epoch 00007: saving model to checkpoints/cp-007.ckpt\n",
            "28/28 [==============================] - 1s 51ms/step - loss: 0.4218 - accuracy: 0.8244 - val_loss: 0.5451 - val_accuracy: 0.7461\n",
            "Epoch 8/12\n",
            "27/28 [===========================>..] - ETA: 0s - loss: 0.3821 - accuracy: 0.8375\n",
            "Epoch 00008: saving model to checkpoints/cp-008.ckpt\n",
            "28/28 [==============================] - 1s 46ms/step - loss: 0.3822 - accuracy: 0.8375 - val_loss: 0.5576 - val_accuracy: 0.7223\n"
          ],
          "name": "stdout"
        }
      ]
    },
    {
      "cell_type": "markdown",
      "metadata": {
        "id": "R_rjaaSxCPys",
        "colab_type": "text"
      },
      "source": [
        "### Process Categorical Data Along with Results from Text"
      ]
    },
    {
      "cell_type": "code",
      "metadata": {
        "id": "IUF7B3LmiP21",
        "colab_type": "code",
        "colab": {}
      },
      "source": [
        "X_train_cat, X_val_cat, X_test_cat = X_train_full[['keyword', 'location']], X_val_full[['keyword', 'location']], X_test_full[['keyword', 'location']]\n",
        "\n",
        "X_train_cat = X_train_cat.replace({np.nan: 'nan'})\n",
        "\n",
        "X_val_cat = X_val_cat.replace({np.nan: 'nan'})\n",
        "\n",
        "X_test_cat = X_test_cat.replace({np.nan: 'nan'})"
      ],
      "execution_count": 0,
      "outputs": []
    },
    {
      "cell_type": "markdown",
      "metadata": {
        "id": "tR0hh9FXLnYO",
        "colab_type": "text"
      },
      "source": [
        "### Get Prediction Vectors from RNN"
      ]
    },
    {
      "cell_type": "code",
      "metadata": {
        "id": "yDYk0XvQHm9M",
        "colab_type": "code",
        "colab": {}
      },
      "source": [
        "X_text_train = model.predict(X_train)\n",
        "\n",
        "X_text_val = model.predict(X_val)\n",
        "\n",
        "X_text_test = model.predict(X_test)"
      ],
      "execution_count": 0,
      "outputs": []
    },
    {
      "cell_type": "markdown",
      "metadata": {
        "id": "atrBDlFGLrFH",
        "colab_type": "text"
      },
      "source": [
        "### Select the Final Timestep\n"
      ]
    },
    {
      "cell_type": "code",
      "metadata": {
        "id": "5xKMqe-bGce6",
        "colab_type": "code",
        "colab": {}
      },
      "source": [
        "X_text_train = X_text_train[:, -1, 0]\n",
        "\n",
        "X_text_val = X_text_val[:, -1, 0]\n",
        "\n",
        "X_text_test = X_text_test[:, -1, 0]"
      ],
      "execution_count": 0,
      "outputs": []
    },
    {
      "cell_type": "markdown",
      "metadata": {
        "id": "9ocDjXLALB7R",
        "colab_type": "text"
      },
      "source": [
        "### Combine into Single DF"
      ]
    },
    {
      "cell_type": "code",
      "metadata": {
        "id": "0u0BRGbjKPnE",
        "colab_type": "code",
        "colab": {}
      },
      "source": [
        "X_train_cat['text_encoded'] = X_text_train\n",
        "\n",
        "X_val_cat['text_encoded'] = X_text_val\n",
        "\n",
        "X_test_cat['text_encoded'] = X_text_test"
      ],
      "execution_count": 0,
      "outputs": []
    },
    {
      "cell_type": "code",
      "metadata": {
        "id": "wNDbZjtYIlYV",
        "colab_type": "code",
        "colab": {}
      },
      "source": [
        "X_train_complete = X_train_cat\n",
        "\n",
        "X_val_complete = X_val_cat\n",
        "\n",
        "X_test_complete = X_test_cat"
      ],
      "execution_count": 0,
      "outputs": []
    },
    {
      "cell_type": "markdown",
      "metadata": {
        "id": "B5qgNa3ElRFq",
        "colab_type": "text"
      },
      "source": [
        "### Preprocessing"
      ]
    },
    {
      "cell_type": "code",
      "metadata": {
        "id": "5Zb5bTDejedy",
        "colab_type": "code",
        "colab": {}
      },
      "source": [
        "from sklearn.pipeline import make_pipeline\n",
        "from sklearn.compose import make_column_transformer\n",
        "from sklearn.preprocessing import MinMaxScaler\n",
        "from sklearn.impute import SimpleImputer\n",
        "from category_encoders import TargetEncoder\n",
        "\n",
        "num_proc = make_pipeline(SimpleImputer(strategy='median'), MinMaxScaler())\n",
        "\n",
        "col_proc = make_pipeline(SimpleImputer(strategy='most_frequent'), OneHotEncoder(handle_unknown='ignore'))\n",
        "\n",
        "preprocessor = make_column_transformer((num_proc, ['text_encoded']), (col_proc, ['keyword', 'location']))"
      ],
      "execution_count": 0,
      "outputs": []
    },
    {
      "cell_type": "code",
      "metadata": {
        "id": "p_NUIfwWsxNN",
        "colab_type": "code",
        "colab": {}
      },
      "source": [
        "y_train, y_val, y_test = y_train.reshape(-1), y_val.reshape(-1), y_test.reshape(-1)"
      ],
      "execution_count": 0,
      "outputs": []
    },
    {
      "cell_type": "markdown",
      "metadata": {
        "id": "7fXohXWJOlAZ",
        "colab_type": "text"
      },
      "source": [
        "## Train"
      ]
    },
    {
      "cell_type": "markdown",
      "metadata": {
        "id": "0CPnnBmNOmjz",
        "colab_type": "text"
      },
      "source": [
        "### Random Forest Clf"
      ]
    },
    {
      "cell_type": "code",
      "metadata": {
        "id": "-nXK3BQ1Emi7",
        "colab_type": "code",
        "outputId": "754b8144-7fbc-4e1b-ed1b-8cc1dc505de1",
        "colab": {
          "base_uri": "https://localhost:8080/",
          "height": 52
        }
      },
      "source": [
        "from sklearn.ensemble import RandomForestClassifier\n",
        "from sklearn.model_selection import cross_val_score\n",
        "from sklearn.model_selection import GridSearchCV\n",
        "\n",
        "pipe = make_pipeline(preprocessor, RandomForestClassifier())\n",
        "\n",
        "param_grid = {'randomforestclassifier__max_depth': [2,3,4]}\n",
        "\n",
        "rf_grid = GridSearchCV(pipe, param_grid, cv=5).fit(X_train_complete, y_train)\n",
        "\n",
        "print(f'Best params: {rf_grid.best_params_}')\n",
        "\n",
        "print(f'Mean cross validation score: {max(rf_grid.cv_results_[\"mean_test_score\"])}')"
      ],
      "execution_count": 0,
      "outputs": [
        {
          "output_type": "stream",
          "text": [
            "Best params: {'randomforestclassifier__max_depth': 4}\n",
            "Mean cross validation score: 0.5927956067735882\n"
          ],
          "name": "stdout"
        }
      ]
    },
    {
      "cell_type": "markdown",
      "metadata": {
        "id": "6dKBD1laOoJO",
        "colab_type": "text"
      },
      "source": [
        "### Gradient Boosting"
      ]
    },
    {
      "cell_type": "code",
      "metadata": {
        "id": "bmgiTaonMgTM",
        "colab_type": "code",
        "outputId": "caef7481-fc11-4c9b-a34f-b7f79cdbf290",
        "colab": {
          "base_uri": "https://localhost:8080/",
          "height": 52
        }
      },
      "source": [
        "from sklearn.ensemble import GradientBoostingClassifier\n",
        "\n",
        "pipe = make_pipeline(preprocessor, GradientBoostingClassifier())\n",
        "\n",
        "param_grid = {'gradientboostingclassifier__max_depth': [2,3,4]}\n",
        "\n",
        "gb_grid = GridSearchCV(pipe, param_grid, cv=5).fit(X_train_complete, y_train)\n",
        "\n",
        "print(f'Best params: {gb_grid.best_params_}')\n",
        "\n",
        "print(f'Mean cross validation score: {max(gb_grid.cv_results_[\"mean_test_score\"])}')"
      ],
      "execution_count": 0,
      "outputs": [
        {
          "output_type": "stream",
          "text": [
            "Best params: {'gradientboostingclassifier__max_depth': 2}\n",
            "Mean cross validation score: 0.8546213950042537\n"
          ],
          "name": "stdout"
        }
      ]
    },
    {
      "cell_type": "markdown",
      "metadata": {
        "id": "saQCqkPhOpzN",
        "colab_type": "text"
      },
      "source": [
        "### XGBoost"
      ]
    },
    {
      "cell_type": "code",
      "metadata": {
        "id": "fG9kIApdNstK",
        "colab_type": "code",
        "colab": {}
      },
      "source": [
        "# ! pip install xgboost"
      ],
      "execution_count": 0,
      "outputs": []
    },
    {
      "cell_type": "code",
      "metadata": {
        "id": "gSZDOQ9ANJq2",
        "colab_type": "code",
        "outputId": "f19ca1ef-fe93-49dd-ff0b-0cc48761d30e",
        "colab": {
          "base_uri": "https://localhost:8080/",
          "height": 52
        }
      },
      "source": [
        "from xgboost import XGBClassifier\n",
        "\n",
        "pipe = make_pipeline(preprocessor, XGBClassifier())\n",
        "\n",
        "param_grid = {'xgbclassifier__max_depth': [2,3,4]}\n",
        "\n",
        "xgb_grid = GridSearchCV(pipe, param_grid, cv=5).fit(X_train_complete, y_train)\n",
        "\n",
        "print(f'Best params: {xgb_grid.best_params_}')\n",
        "\n",
        "print(f'Mean cross validation score: {max(xgb_grid.cv_results_[\"mean_test_score\"])}')"
      ],
      "execution_count": 0,
      "outputs": [
        {
          "output_type": "stream",
          "text": [
            "Best params: {'xgbclassifier__max_depth': 2}\n",
            "Mean cross validation score: 0.8546214996447455\n"
          ],
          "name": "stdout"
        }
      ]
    },
    {
      "cell_type": "markdown",
      "metadata": {
        "id": "9bKrljE4OyFR",
        "colab_type": "text"
      },
      "source": [
        "### AdaBoost"
      ]
    },
    {
      "cell_type": "code",
      "metadata": {
        "id": "WvbMacG6OHFm",
        "colab_type": "code",
        "outputId": "5a0e615a-0fcf-4bfb-8056-fe88400ff7a0",
        "colab": {
          "base_uri": "https://localhost:8080/",
          "height": 52
        }
      },
      "source": [
        "from sklearn.ensemble import AdaBoostClassifier\n",
        "\n",
        "pipe = make_pipeline(preprocessor, AdaBoostClassifier())\n",
        "\n",
        "param_grid = {'adaboostclassifier__n_estimators': [200]}\n",
        "\n",
        "ada_grid = GridSearchCV(pipe, param_grid, cv=5).fit(X_train_complete, y_train)\n",
        "\n",
        "print(f'Best params: {ada_grid.best_params_}')\n",
        "\n",
        "print(f'Mean cross validation score: {max(ada_grid.cv_results_[\"mean_test_score\"])}')"
      ],
      "execution_count": 0,
      "outputs": [
        {
          "output_type": "stream",
          "text": [
            "Best params: {'adaboostclassifier__n_estimators': 200}\n",
            "Mean cross validation score: 0.8460861840019337\n"
          ],
          "name": "stdout"
        }
      ]
    },
    {
      "cell_type": "markdown",
      "metadata": {
        "id": "anMXzZilPEQT",
        "colab_type": "text"
      },
      "source": [
        "### Support Vector Classifier"
      ]
    },
    {
      "cell_type": "code",
      "metadata": {
        "id": "EpL4MQ0lO1Ie",
        "colab_type": "code",
        "outputId": "053fcba7-9ec7-4d43-c66f-1fa5ffd99786",
        "colab": {
          "base_uri": "https://localhost:8080/",
          "height": 52
        }
      },
      "source": [
        "from sklearn.svm import LinearSVC\n",
        "\n",
        "pipe = make_pipeline(preprocessor, LinearSVC())\n",
        "\n",
        "param_grid = {'linearsvc__C': [5e-3, 1e-2, 5e-2]}\n",
        "\n",
        "svc_grid = GridSearchCV(pipe, param_grid, cv=5).fit(X_train_complete, y_train)\n",
        "\n",
        "print(f'Best params: {svc_grid.best_params_}')\n",
        "\n",
        "print(f'Mean cross validation score: {max(svc_grid.cv_results_[\"mean_test_score\"])}')"
      ],
      "execution_count": 0,
      "outputs": [
        {
          "output_type": "stream",
          "text": [
            "Best params: {'linearsvc__C': 0.05}\n",
            "Mean cross validation score: 0.8520179395659303\n"
          ],
          "name": "stdout"
        }
      ]
    },
    {
      "cell_type": "markdown",
      "metadata": {
        "id": "PaGs65P5RWpE",
        "colab_type": "text"
      },
      "source": [
        "## Validate Scores"
      ]
    },
    {
      "cell_type": "code",
      "metadata": {
        "id": "V4skIszJPB9c",
        "colab_type": "code",
        "outputId": "5f85f1a9-0798-4035-84dd-83377fd09f39",
        "colab": {
          "base_uri": "https://localhost:8080/",
          "height": 105
        }
      },
      "source": [
        "print('Random forest:', rf_grid.score(X_val_complete, y_val))\n",
        "\n",
        "print('Grad Boost:', gb_grid.score(X_val_complete, y_val))\n",
        "\n",
        "print('XGB:', xgb_grid.score(X_val_complete, y_val))\n",
        "\n",
        "print('AdaBoost:', ada_grid.score(X_val_complete, y_val))\n",
        "\n",
        "print('SVC:', svc_grid.score(X_val_complete, y_val))"
      ],
      "execution_count": 0,
      "outputs": [
        {
          "output_type": "stream",
          "text": [
            "Random forest: 0.57\n",
            "Grad Boost: 0.74\n",
            "XGB: 0.736\n",
            "AdaBoost: 0.724\n",
            "SVC: 0.746\n"
          ],
          "name": "stdout"
        }
      ]
    },
    {
      "cell_type": "code",
      "metadata": {
        "id": "6pEVyBWVRgtA",
        "colab_type": "code",
        "outputId": "e7ac0f30-c0c4-45ed-ba13-63140ef7a37b",
        "colab": {
          "base_uri": "https://localhost:8080/",
          "height": 34
        }
      },
      "source": [
        "print('SVC test score:', svc_grid.score(X_test_complete, y_test))"
      ],
      "execution_count": 0,
      "outputs": [
        {
          "output_type": "stream",
          "text": [
            "SVC test score: 0.81\n"
          ],
          "name": "stdout"
        }
      ]
    },
    {
      "cell_type": "markdown",
      "metadata": {
        "id": "K2uEcsGuxmou",
        "colab_type": "text"
      },
      "source": [
        "## Run on Test CSV Data"
      ]
    },
    {
      "cell_type": "code",
      "metadata": {
        "id": "VokUGvJTRsWc",
        "colab_type": "code",
        "outputId": "916c9c7d-db43-4e52-d3ab-99347e68e6c0",
        "colab": {
          "base_uri": "https://localhost:8080/",
          "height": 197
        }
      },
      "source": [
        "os.chdir('/content')\n",
        "\n",
        "test_df = pd.read_csv('test (1).csv')\n",
        "\n",
        "test_df.head()"
      ],
      "execution_count": 0,
      "outputs": [
        {
          "output_type": "execute_result",
          "data": {
            "text/html": [
              "<div>\n",
              "<style scoped>\n",
              "    .dataframe tbody tr th:only-of-type {\n",
              "        vertical-align: middle;\n",
              "    }\n",
              "\n",
              "    .dataframe tbody tr th {\n",
              "        vertical-align: top;\n",
              "    }\n",
              "\n",
              "    .dataframe thead th {\n",
              "        text-align: right;\n",
              "    }\n",
              "</style>\n",
              "<table border=\"1\" class=\"dataframe\">\n",
              "  <thead>\n",
              "    <tr style=\"text-align: right;\">\n",
              "      <th></th>\n",
              "      <th>id</th>\n",
              "      <th>keyword</th>\n",
              "      <th>location</th>\n",
              "      <th>text</th>\n",
              "    </tr>\n",
              "  </thead>\n",
              "  <tbody>\n",
              "    <tr>\n",
              "      <th>0</th>\n",
              "      <td>0</td>\n",
              "      <td>NaN</td>\n",
              "      <td>NaN</td>\n",
              "      <td>Just happened a terrible car crash</td>\n",
              "    </tr>\n",
              "    <tr>\n",
              "      <th>1</th>\n",
              "      <td>2</td>\n",
              "      <td>NaN</td>\n",
              "      <td>NaN</td>\n",
              "      <td>Heard about #earthquake is different cities, stay safe everyone.</td>\n",
              "    </tr>\n",
              "    <tr>\n",
              "      <th>2</th>\n",
              "      <td>3</td>\n",
              "      <td>NaN</td>\n",
              "      <td>NaN</td>\n",
              "      <td>there is a forest fire at spot pond, geese are fleeing across the street, I cannot save them all</td>\n",
              "    </tr>\n",
              "    <tr>\n",
              "      <th>3</th>\n",
              "      <td>9</td>\n",
              "      <td>NaN</td>\n",
              "      <td>NaN</td>\n",
              "      <td>Apocalypse lighting. #Spokane #wildfires</td>\n",
              "    </tr>\n",
              "    <tr>\n",
              "      <th>4</th>\n",
              "      <td>11</td>\n",
              "      <td>NaN</td>\n",
              "      <td>NaN</td>\n",
              "      <td>Typhoon Soudelor kills 28 in China and Taiwan</td>\n",
              "    </tr>\n",
              "  </tbody>\n",
              "</table>\n",
              "</div>"
            ],
            "text/plain": [
              "   id  ...                                                                                              text\n",
              "0   0  ...                                                                Just happened a terrible car crash\n",
              "1   2  ...                                  Heard about #earthquake is different cities, stay safe everyone.\n",
              "2   3  ...  there is a forest fire at spot pond, geese are fleeing across the street, I cannot save them all\n",
              "3   9  ...                                                          Apocalypse lighting. #Spokane #wildfires\n",
              "4  11  ...                                                     Typhoon Soudelor kills 28 in China and Taiwan\n",
              "\n",
              "[5 rows x 4 columns]"
            ]
          },
          "metadata": {
            "tags": []
          },
          "execution_count": 159
        }
      ]
    },
    {
      "cell_type": "code",
      "metadata": {
        "id": "ly7sUBfxxteR",
        "colab_type": "code",
        "colab": {}
      },
      "source": [
        "import os\n",
        "\n",
        "os.chdir('/content/drive/My Drive')\n",
        "\n",
        "from summarizer_func_lib import replace_contraction"
      ],
      "execution_count": 0,
      "outputs": []
    },
    {
      "cell_type": "markdown",
      "metadata": {
        "id": "sgBgEr1C0xuC",
        "colab_type": "text"
      },
      "source": [
        "### Preprocess Test Data"
      ]
    },
    {
      "cell_type": "code",
      "metadata": {
        "id": "sbw4NSGHx5CQ",
        "colab_type": "code",
        "colab": {}
      },
      "source": [
        "clean_text = [re.sub('[^A-Za-z.@\\-\\#\\'\\s]', '', str(text)) for text in test_df['text']]\n",
        "\n",
        "split_word_nars = [tweet.split() for tweet in clean_text]\n",
        "\n",
        "new_words = []\n",
        "\n",
        "for nar in split_word_nars:\n",
        "    \n",
        "  nar_words = []\n",
        "\n",
        "  for word in nar:\n",
        "\n",
        "    if re.search('\\w+[.]', word):\n",
        "\n",
        "      splitted = word.split('.')\n",
        "\n",
        "      tmp_words = replace_contraction(splitted[0].lower())\n",
        "\n",
        "      for w in tmp_words.split():\n",
        "\n",
        "        nar_words.append(w)\n",
        "\n",
        "        nar_words.append('.')\n",
        "    \n",
        "    elif re.search('\\w+[;]', word):\n",
        "        \n",
        "      splitted = word.split(';')\n",
        "      \n",
        "      tmp_words = replace_contraction(splitted[0].lower())\n",
        "      \n",
        "      for w in tmp_words.split():\n",
        "          \n",
        "        nar_words.append(w)\n",
        "        \n",
        "        nar_words.append(';')\n",
        "\n",
        "    elif re.search('\\#\\w+', word):\n",
        "\n",
        "      splitted = word.split('#')\n",
        "\n",
        "      tmp_words = replace_contraction(splitted[1].lower())\n",
        "\n",
        "      for w in tmp_words.split():\n",
        "\n",
        "        nar_words.append('#') # reverse order because of # coming before words\n",
        "\n",
        "        nar_words.append(w)\n",
        "    \n",
        "    elif re.search('@\\w+', word):\n",
        "\n",
        "      splitted = word.split('@')\n",
        "\n",
        "      tmp_words = replace_contraction(splitted[1].lower())\n",
        "\n",
        "      for w in tmp_words.split():\n",
        "\n",
        "        nar_words.append('@')\n",
        "\n",
        "        nar_words.append(w)\n",
        "    \n",
        "    elif re.search('\\w+\\-\\w+', word):\n",
        "\n",
        "      splitted = word.split('-')\n",
        "\n",
        "      tmp_words = replace_contraction(splitted[0]. lower())\n",
        "\n",
        "      for w in tmp_words.split():\n",
        "\n",
        "        nar_words.append(w)\n",
        "      \n",
        "      tmp_words = replace_contraction(splitted[1].lower())\n",
        "\n",
        "      for w in tmp_words.split():\n",
        "\n",
        "        nar_words.append(w)\n",
        "\n",
        "    else:\n",
        "\n",
        "      tmp_words = replace_contraction(word)\n",
        "\n",
        "      for w in tmp_words.split():\n",
        "\n",
        "        nar_words.append(w)\n",
        "\n",
        "  nar_words = [word for word in nar_words]\n",
        "\n",
        "  new_words.append(' '.join(nar_words))\n",
        "\n",
        "texts = new_words\n",
        "\n",
        "test_df['clean_text'] = texts"
      ],
      "execution_count": 0,
      "outputs": []
    },
    {
      "cell_type": "code",
      "metadata": {
        "id": "8tt9YnT5x-CR",
        "colab_type": "code",
        "colab": {}
      },
      "source": [
        "clean_locs = []\n",
        "\n",
        "for loc in test_df['location']:\n",
        "  \n",
        "  try:\n",
        "\n",
        "    lowered = loc.lower()\n",
        "\n",
        "    clean_locs.append(lowered)\n",
        "  \n",
        "  except:\n",
        "\n",
        "    clean_locs.append(loc)\n",
        "\n",
        "test_df['location'] = clean_locs"
      ],
      "execution_count": 0,
      "outputs": []
    },
    {
      "cell_type": "code",
      "metadata": {
        "id": "CM7BqcCVyDpM",
        "colab_type": "code",
        "colab": {}
      },
      "source": [
        "proc_text = test_df['clean_text']\n",
        "\n",
        "proc_text = tokenizer.texts_to_sequences(proc_text)\n",
        "\n",
        "proc_text = pad_sequences(proc_text, maxlen=max_len_text, padding='post')\n",
        "\n",
        "pred_text = model.predict(proc_text)"
      ],
      "execution_count": 0,
      "outputs": []
    },
    {
      "cell_type": "code",
      "metadata": {
        "id": "TOoF1PJiywmC",
        "colab_type": "code",
        "outputId": "65e888ca-1fa7-4b82-bedb-aa2c61afe445",
        "colab": {
          "base_uri": "https://localhost:8080/",
          "height": 72
        }
      },
      "source": [
        "test_df['text_encoded'] = pred_text[:, -1, 0]\n",
        "\n",
        "predictions = grid.predict(test_df)\n",
        "\n",
        "test_df['target'] = predictions"
      ],
      "execution_count": 0,
      "outputs": [
        {
          "output_type": "stream",
          "text": [
            "/usr/local/lib/python3.6/dist-packages/sklearn/compose/_column_transformer.py:430: FutureWarning: Given feature/column names or counts do not match the ones for the data given during fit. This will fail from v0.24.\n",
            "  FutureWarning)\n"
          ],
          "name": "stderr"
        }
      ]
    },
    {
      "cell_type": "markdown",
      "metadata": {
        "id": "PagEuGgl0994",
        "colab_type": "text"
      },
      "source": [
        "### Get Pred Output for TestDF"
      ]
    },
    {
      "cell_type": "code",
      "metadata": {
        "id": "5DRZ-Lc7zb7G",
        "colab_type": "code",
        "colab": {}
      },
      "source": [
        "final_df = test_df[['id', 'target']]\n",
        "\n",
        "os.chdir('/content')\n",
        "\n",
        "final_df.to_csv('/content/drive/My Drive/nlp_disaster_tweet_preds.csv', header=['id', 'target'], index=False)"
      ],
      "execution_count": 0,
      "outputs": []
    },
    {
      "cell_type": "code",
      "metadata": {
        "id": "p9lIeSfEz0py",
        "colab_type": "code",
        "outputId": "aa013f2a-e119-44d7-9ab0-859c184c91ea",
        "colab": {
          "base_uri": "https://localhost:8080/",
          "height": 197
        }
      },
      "source": [
        "final_df.head()"
      ],
      "execution_count": 0,
      "outputs": [
        {
          "output_type": "execute_result",
          "data": {
            "text/html": [
              "<div>\n",
              "<style scoped>\n",
              "    .dataframe tbody tr th:only-of-type {\n",
              "        vertical-align: middle;\n",
              "    }\n",
              "\n",
              "    .dataframe tbody tr th {\n",
              "        vertical-align: top;\n",
              "    }\n",
              "\n",
              "    .dataframe thead th {\n",
              "        text-align: right;\n",
              "    }\n",
              "</style>\n",
              "<table border=\"1\" class=\"dataframe\">\n",
              "  <thead>\n",
              "    <tr style=\"text-align: right;\">\n",
              "      <th></th>\n",
              "      <th>id</th>\n",
              "      <th>target</th>\n",
              "    </tr>\n",
              "  </thead>\n",
              "  <tbody>\n",
              "    <tr>\n",
              "      <th>0</th>\n",
              "      <td>0</td>\n",
              "      <td>1</td>\n",
              "    </tr>\n",
              "    <tr>\n",
              "      <th>1</th>\n",
              "      <td>2</td>\n",
              "      <td>1</td>\n",
              "    </tr>\n",
              "    <tr>\n",
              "      <th>2</th>\n",
              "      <td>3</td>\n",
              "      <td>1</td>\n",
              "    </tr>\n",
              "    <tr>\n",
              "      <th>3</th>\n",
              "      <td>9</td>\n",
              "      <td>1</td>\n",
              "    </tr>\n",
              "    <tr>\n",
              "      <th>4</th>\n",
              "      <td>11</td>\n",
              "      <td>1</td>\n",
              "    </tr>\n",
              "  </tbody>\n",
              "</table>\n",
              "</div>"
            ],
            "text/plain": [
              "   id  target\n",
              "0   0       1\n",
              "1   2       1\n",
              "2   3       1\n",
              "3   9       1\n",
              "4  11       1"
            ]
          },
          "metadata": {
            "tags": []
          },
          "execution_count": 187
        }
      ]
    },
    {
      "cell_type": "code",
      "metadata": {
        "id": "g3snMmI_1_rg",
        "colab_type": "code",
        "colab": {}
      },
      "source": [
        ""
      ],
      "execution_count": 0,
      "outputs": []
    }
  ]
}