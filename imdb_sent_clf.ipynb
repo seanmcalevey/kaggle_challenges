{
  "nbformat": 4,
  "nbformat_minor": 0,
  "metadata": {
    "colab": {
      "name": "imdb_sent_clf.ipynb",
      "provenance": [],
      "toc_visible": true,
      "machine_shape": "hm",
      "authorship_tag": "ABX9TyPVXAqbxneHi6lmGOjxdUQA",
      "include_colab_link": true
    },
    "kernelspec": {
      "name": "python3",
      "display_name": "Python 3"
    },
    "accelerator": "GPU"
  },
  "cells": [
    {
      "cell_type": "markdown",
      "metadata": {
        "id": "view-in-github",
        "colab_type": "text"
      },
      "source": [
        "<a href=\"https://colab.research.google.com/github/seanmcalevey/kaggle_challenges/blob/master/imdb_sent_clf.ipynb\" target=\"_parent\"><img src=\"https://colab.research.google.com/assets/colab-badge.svg\" alt=\"Open In Colab\"/></a>"
      ]
    },
    {
      "cell_type": "markdown",
      "metadata": {
        "id": "eo-Ew7f6OBnF",
        "colab_type": "text"
      },
      "source": [
        "# 1.0 Basic Imports and Loading Dataset"
      ]
    },
    {
      "cell_type": "code",
      "metadata": {
        "id": "T6XKdjSkLp4N",
        "colab_type": "code",
        "colab": {
          "base_uri": "https://localhost:8080/",
          "height": 161
        },
        "outputId": "0e96c62b-2d35-4abe-a75f-5b9127700724"
      },
      "source": [
        "import numpy as np\n",
        "import pandas as pd\n",
        "import matplotlib.pyplot as plt\n",
        "import seaborn as sns\n",
        "from google.colab import drive\n",
        "\n",
        "drive.mount('/content/drive/')"
      ],
      "execution_count": 1,
      "outputs": [
        {
          "output_type": "stream",
          "text": [
            "/usr/local/lib/python3.6/dist-packages/statsmodels/tools/_testing.py:19: FutureWarning: pandas.util.testing is deprecated. Use the functions in the public API at pandas.testing instead.\n",
            "  import pandas.util.testing as tm\n"
          ],
          "name": "stderr"
        },
        {
          "output_type": "stream",
          "text": [
            "Go to this URL in a browser: https://accounts.google.com/o/oauth2/auth?client_id=947318989803-6bn6qk8qdgf4n4g3pfee6491hc0brc4i.apps.googleusercontent.com&redirect_uri=urn%3aietf%3awg%3aoauth%3a2.0%3aoob&response_type=code&scope=email%20https%3a%2f%2fwww.googleapis.com%2fauth%2fdocs.test%20https%3a%2f%2fwww.googleapis.com%2fauth%2fdrive%20https%3a%2f%2fwww.googleapis.com%2fauth%2fdrive.photos.readonly%20https%3a%2f%2fwww.googleapis.com%2fauth%2fpeopleapi.readonly\n",
            "\n",
            "Enter your authorization code:\n",
            "··········\n",
            "Mounted at /content/drive/\n"
          ],
          "name": "stdout"
        }
      ]
    },
    {
      "cell_type": "markdown",
      "metadata": {
        "id": "dfFA2pg1h2p-",
        "colab_type": "text"
      },
      "source": [
        "### Import Training DF"
      ]
    },
    {
      "cell_type": "code",
      "metadata": {
        "id": "LN3lq-3yLye2",
        "colab_type": "code",
        "colab": {
          "base_uri": "https://localhost:8080/",
          "height": 197
        },
        "outputId": "98e92cbe-0383-460f-d7f7-f1855258892c"
      },
      "source": [
        "drive_path = '/content/drive/My Drive/'\n",
        "folder_path = 'kaggle_datasets/imdb_dataset/'\n",
        "file_path = 'labeledTrainData2.tsv'\n",
        "\n",
        "master_df = pd.read_csv(drive_path + folder_path + file_path, delimiter='\\t')\n",
        "df = master_df.copy()\n",
        "df.head()"
      ],
      "execution_count": 2,
      "outputs": [
        {
          "output_type": "execute_result",
          "data": {
            "text/html": [
              "<div>\n",
              "<style scoped>\n",
              "    .dataframe tbody tr th:only-of-type {\n",
              "        vertical-align: middle;\n",
              "    }\n",
              "\n",
              "    .dataframe tbody tr th {\n",
              "        vertical-align: top;\n",
              "    }\n",
              "\n",
              "    .dataframe thead th {\n",
              "        text-align: right;\n",
              "    }\n",
              "</style>\n",
              "<table border=\"1\" class=\"dataframe\">\n",
              "  <thead>\n",
              "    <tr style=\"text-align: right;\">\n",
              "      <th></th>\n",
              "      <th>id</th>\n",
              "      <th>sentiment</th>\n",
              "      <th>review</th>\n",
              "    </tr>\n",
              "  </thead>\n",
              "  <tbody>\n",
              "    <tr>\n",
              "      <th>0</th>\n",
              "      <td>5814_8</td>\n",
              "      <td>1</td>\n",
              "      <td>With all this stuff going down at the moment w...</td>\n",
              "    </tr>\n",
              "    <tr>\n",
              "      <th>1</th>\n",
              "      <td>2381_9</td>\n",
              "      <td>1</td>\n",
              "      <td>\\The Classic War of the Worlds\\\" by Timothy Hi...</td>\n",
              "    </tr>\n",
              "    <tr>\n",
              "      <th>2</th>\n",
              "      <td>7759_3</td>\n",
              "      <td>0</td>\n",
              "      <td>The film starts with a manager (Nicholas Bell)...</td>\n",
              "    </tr>\n",
              "    <tr>\n",
              "      <th>3</th>\n",
              "      <td>3630_4</td>\n",
              "      <td>0</td>\n",
              "      <td>It must be assumed that those who praised this...</td>\n",
              "    </tr>\n",
              "    <tr>\n",
              "      <th>4</th>\n",
              "      <td>9495_8</td>\n",
              "      <td>1</td>\n",
              "      <td>Superbly trashy and wondrously unpretentious 8...</td>\n",
              "    </tr>\n",
              "  </tbody>\n",
              "</table>\n",
              "</div>"
            ],
            "text/plain": [
              "       id  sentiment                                             review\n",
              "0  5814_8          1  With all this stuff going down at the moment w...\n",
              "1  2381_9          1  \\The Classic War of the Worlds\\\" by Timothy Hi...\n",
              "2  7759_3          0  The film starts with a manager (Nicholas Bell)...\n",
              "3  3630_4          0  It must be assumed that those who praised this...\n",
              "4  9495_8          1  Superbly trashy and wondrously unpretentious 8..."
            ]
          },
          "metadata": {
            "tags": []
          },
          "execution_count": 2
        }
      ]
    },
    {
      "cell_type": "markdown",
      "metadata": {
        "id": "9EU1bEXDOG7Y",
        "colab_type": "text"
      },
      "source": [
        "# 2.0 Text Cleaning"
      ]
    },
    {
      "cell_type": "markdown",
      "metadata": {
        "id": "ucZrj0DktMFq",
        "colab_type": "text"
      },
      "source": [
        "## 2.1 Clean Text Func"
      ]
    },
    {
      "cell_type": "code",
      "metadata": {
        "id": "CuJZc0WCNrul",
        "colab_type": "code",
        "colab": {
          "base_uri": "https://localhost:8080/",
          "height": 141
        },
        "outputId": "8d8480cb-8788-4f85-a23d-31309345a949"
      },
      "source": [
        "def clean_text(text_list):\n",
        "\n",
        "  import re\n",
        "  import sys\n",
        "  sys.path.append('/content/drive/My Drive/py_functions')\n",
        "  from summarizer_func_lib import replace_contraction\n",
        "  sys.path.remove('/content/drive/My Drive/py_functions')\n",
        "  from bs4 import BeautifulSoup\n",
        "\n",
        "  cleaned_reviews = []\n",
        "  for review in text_list:\n",
        "    cleaned_review = re.sub('[^A-Za-z.,\\s\\']', '', review)\n",
        "    cleaned_review = BeautifulSoup(cleaned_review, 'lxml').get_text() # clean all html from text\n",
        "    # cleaned_review = lemmatize_func(cleaned_review)\n",
        "\n",
        "    # Split off periods as their own tokens, and search for contractions and replace them\n",
        "    review_words = []\n",
        "    for word in cleaned_review.split():\n",
        "      word = word.lower()\n",
        "      if re.search('\\w+\\.', word):\n",
        "        word = re.sub('\\.', '', word)\n",
        "        proc_words = replace_contraction(word)\n",
        "        for w in proc_words.split():\n",
        "          review_words.append(w)\n",
        "        review_words.append('.')\n",
        "      elif re.search('\\w+,', word):\n",
        "        word = re.sub(',', '', word)\n",
        "        proc_words = replace_contraction(word)\n",
        "        for w in proc_words.split():\n",
        "          review_words.append(w)\n",
        "      elif re.search('br$', word):\n",
        "        pass\n",
        "      else:\n",
        "        proc_words = replace_contraction(word)\n",
        "        for w in proc_words.split():\n",
        "          review_words.append(w)\n",
        "    \n",
        "    # Combine words together and append\n",
        "    review_words = ' '.join(review_words)\n",
        "    cleaned_reviews.append(review_words)\n",
        "\n",
        "  # cleaned_reviews = clean_stops(cleaned_reviews)\n",
        "  return cleaned_reviews\n",
        "\n",
        "# Stopwords\n",
        "import nltk\n",
        "nltk.download('stopwords')\n",
        "from nltk.corpus import stopwords\n",
        "\n",
        "def clean_stops(text_list):\n",
        "  stop_words = stopwords.words('english')\n",
        "  cleaned_reviews = []\n",
        "  for review in text_list:\n",
        "    tok_review = review.split()\n",
        "    proc_review = [word for word in tok_review if word not in stop_words]\n",
        "    proc_review = ' '.join(proc_review)\n",
        "    cleaned_reviews.append(proc_review)\n",
        "  return cleaned_reviews\n",
        "\n",
        "\n",
        "# Lemmatizer\n",
        "import nltk\n",
        "nltk.download('averaged_perceptron_tagger')\n",
        "nltk.download('wordnet')\n",
        "from nltk.stem.wordnet import WordNetLemmatizer\n",
        "from nltk import pos_tag\n",
        "from nltk.corpus import wordnet\n",
        "\n",
        "def lemmatize_func(text, pos_tag='v'):\n",
        "  lem = WordNetLemmatizer()\n",
        "  lems = [lem.lemmatize(word, pos_tag) for word in text.split()]\n",
        "  return ' '.join(lems)"
      ],
      "execution_count": 3,
      "outputs": [
        {
          "output_type": "stream",
          "text": [
            "[nltk_data] Downloading package stopwords to /root/nltk_data...\n",
            "[nltk_data]   Unzipping corpora/stopwords.zip.\n",
            "[nltk_data] Downloading package averaged_perceptron_tagger to\n",
            "[nltk_data]     /root/nltk_data...\n",
            "[nltk_data]   Unzipping taggers/averaged_perceptron_tagger.zip.\n",
            "[nltk_data] Downloading package wordnet to /root/nltk_data...\n",
            "[nltk_data]   Unzipping corpora/wordnet.zip.\n"
          ],
          "name": "stdout"
        }
      ]
    },
    {
      "cell_type": "markdown",
      "metadata": {
        "id": "Jvgs_MImtOOh",
        "colab_type": "text"
      },
      "source": [
        "### Clean Text and Add Back to DF"
      ]
    },
    {
      "cell_type": "code",
      "metadata": {
        "id": "2PToqLsHggtE",
        "colab_type": "code",
        "colab": {
          "base_uri": "https://localhost:8080/",
          "height": 197
        },
        "outputId": "27535f7c-d53b-4c6f-f7cb-16a88bf66f17"
      },
      "source": [
        "text_list = df['review']\n",
        "cleaned_text = clean_text(text_list)\n",
        "df['lemm_text'] = cleaned_text\n",
        "df.head()"
      ],
      "execution_count": 4,
      "outputs": [
        {
          "output_type": "execute_result",
          "data": {
            "text/html": [
              "<div>\n",
              "<style scoped>\n",
              "    .dataframe tbody tr th:only-of-type {\n",
              "        vertical-align: middle;\n",
              "    }\n",
              "\n",
              "    .dataframe tbody tr th {\n",
              "        vertical-align: top;\n",
              "    }\n",
              "\n",
              "    .dataframe thead th {\n",
              "        text-align: right;\n",
              "    }\n",
              "</style>\n",
              "<table border=\"1\" class=\"dataframe\">\n",
              "  <thead>\n",
              "    <tr style=\"text-align: right;\">\n",
              "      <th></th>\n",
              "      <th>id</th>\n",
              "      <th>sentiment</th>\n",
              "      <th>review</th>\n",
              "      <th>lemm_text</th>\n",
              "    </tr>\n",
              "  </thead>\n",
              "  <tbody>\n",
              "    <tr>\n",
              "      <th>0</th>\n",
              "      <td>5814_8</td>\n",
              "      <td>1</td>\n",
              "      <td>With all this stuff going down at the moment w...</td>\n",
              "      <td>with all this stuff going down at the moment w...</td>\n",
              "    </tr>\n",
              "    <tr>\n",
              "      <th>1</th>\n",
              "      <td>2381_9</td>\n",
              "      <td>1</td>\n",
              "      <td>\\The Classic War of the Worlds\\\" by Timothy Hi...</td>\n",
              "      <td>the classic war of the worlds by timothy hines...</td>\n",
              "    </tr>\n",
              "    <tr>\n",
              "      <th>2</th>\n",
              "      <td>7759_3</td>\n",
              "      <td>0</td>\n",
              "      <td>The film starts with a manager (Nicholas Bell)...</td>\n",
              "      <td>the film starts with a manager nicholas bell g...</td>\n",
              "    </tr>\n",
              "    <tr>\n",
              "      <th>3</th>\n",
              "      <td>3630_4</td>\n",
              "      <td>0</td>\n",
              "      <td>It must be assumed that those who praised this...</td>\n",
              "      <td>it must be assumed that those who praised this...</td>\n",
              "    </tr>\n",
              "    <tr>\n",
              "      <th>4</th>\n",
              "      <td>9495_8</td>\n",
              "      <td>1</td>\n",
              "      <td>Superbly trashy and wondrously unpretentious 8...</td>\n",
              "      <td>superbly trashy and wondrously unpretentious '...</td>\n",
              "    </tr>\n",
              "  </tbody>\n",
              "</table>\n",
              "</div>"
            ],
            "text/plain": [
              "       id  ...                                          lemm_text\n",
              "0  5814_8  ...  with all this stuff going down at the moment w...\n",
              "1  2381_9  ...  the classic war of the worlds by timothy hines...\n",
              "2  7759_3  ...  the film starts with a manager nicholas bell g...\n",
              "3  3630_4  ...  it must be assumed that those who praised this...\n",
              "4  9495_8  ...  superbly trashy and wondrously unpretentious '...\n",
              "\n",
              "[5 rows x 4 columns]"
            ]
          },
          "metadata": {
            "tags": []
          },
          "execution_count": 4
        }
      ]
    },
    {
      "cell_type": "markdown",
      "metadata": {
        "id": "i1q1dMF2hiu2",
        "colab_type": "text"
      },
      "source": [
        "## 2.2 Train Test Split"
      ]
    },
    {
      "cell_type": "code",
      "metadata": {
        "id": "wJTIibwg0foP",
        "colab_type": "code",
        "colab": {}
      },
      "source": [
        "from sklearn.model_selection import train_test_split\n",
        "\n",
        "X = df['lemm_text']\n",
        "y = df['sentiment']\n",
        "\n",
        "X_train_full, X_test, y_train_full, y_test = train_test_split(X, y, stratify=y, test_size=0.2, random_state=42)\n",
        "X_train, X_val, y_train, y_val = train_test_split(X_train_full, y_train_full, stratify=y_train_full, test_size=0.15, random_state=42)"
      ],
      "execution_count": 6,
      "outputs": []
    },
    {
      "cell_type": "markdown",
      "metadata": {
        "id": "uU_UibDWhj5l",
        "colab_type": "text"
      },
      "source": [
        "## 2.3: Linear SVC Model with TfidfVectorizer"
      ]
    },
    {
      "cell_type": "code",
      "metadata": {
        "id": "dDgYg48O1cXZ",
        "colab_type": "code",
        "colab": {
          "base_uri": "https://localhost:8080/",
          "height": 52
        },
        "outputId": "a073ad7f-b553-4ffe-da07-9424b051eb1b"
      },
      "source": [
        "from sklearn.feature_extraction.text import TfidfVectorizer\n",
        "from sklearn.svm import LinearSVC\n",
        "from sklearn.model_selection import GridSearchCV\n",
        "from sklearn.pipeline import make_pipeline\n",
        "\n",
        "max_feats = 40000\n",
        "pipe = make_pipeline(TfidfVectorizer(ngram_range=(1,3), stop_words='english', max_features=max_feats), LinearSVC())\n",
        "param_grid = {'linearsvc__C': [0.6]}\n",
        "grid = GridSearchCV(pipe, param_grid, cv=5).fit(X_train, y_train)\n",
        "print(f'Best params: {grid.best_params_} \\nBest score: {grid.best_score_}')"
      ],
      "execution_count": 8,
      "outputs": [
        {
          "output_type": "stream",
          "text": [
            "Best params: {'linearsvc__C': 0.6} \n",
            "Best score: 0.8852941176470589\n"
          ],
          "name": "stdout"
        }
      ]
    },
    {
      "cell_type": "markdown",
      "metadata": {
        "id": "MyiQg-cdVRDY",
        "colab_type": "text"
      },
      "source": [
        "### LinearSVC on Full Training Set"
      ]
    },
    {
      "cell_type": "code",
      "metadata": {
        "id": "3c_NWIBY7Smv",
        "colab_type": "code",
        "colab": {
          "base_uri": "https://localhost:8080/",
          "height": 34
        },
        "outputId": "8c13502c-78d2-46de-c292-7fd63f108126"
      },
      "source": [
        "vectorizer = TfidfVectorizer(ngram_range=(1,3), stop_words='english', max_features=max_feats)\n",
        "X_train_vec = vectorizer.fit_transform(X_train_full)\n",
        "X_test_vec = vectorizer.transform(X_test)\n",
        "\n",
        "clf = LinearSVC(C=0.6).fit(X_train_vec, y_train_full)\n",
        "clf.score(X_train_vec, y_train_full), clf.score(X_test_vec, y_test)"
      ],
      "execution_count": 11,
      "outputs": [
        {
          "output_type": "execute_result",
          "data": {
            "text/plain": [
              "(0.9918, 0.8922)"
            ]
          },
          "metadata": {
            "tags": []
          },
          "execution_count": 11
        }
      ]
    },
    {
      "cell_type": "markdown",
      "metadata": {
        "id": "5RWi_FJ_iAQX",
        "colab_type": "text"
      },
      "source": [
        "## 2.4 Import Test DF"
      ]
    },
    {
      "cell_type": "code",
      "metadata": {
        "id": "g7zLZxZMb5fR",
        "colab_type": "code",
        "colab": {}
      },
      "source": [
        "file_path = 'testData.tsv'\n",
        "test_df = pd.read_csv(file_path, delimiter='\\t')"
      ],
      "execution_count": 14,
      "outputs": []
    },
    {
      "cell_type": "markdown",
      "metadata": {
        "id": "TfvzjMfKiDrA",
        "colab_type": "text"
      },
      "source": [
        "## 2.5 Train on Full Train Dataset, and Predict on Test Dataset"
      ]
    },
    {
      "cell_type": "code",
      "metadata": {
        "id": "wUELnjY9dFX4",
        "colab_type": "code",
        "colab": {
          "base_uri": "https://localhost:8080/",
          "height": 34
        },
        "outputId": "fc052168-2a82-4c97-def8-b02f404ff041"
      },
      "source": [
        "vectorizer = TfidfVectorizer(ngram_range=(1,3), stop_words='english', max_features=max_feats)\n",
        "X_vec = vectorizer.fit_transform(X)\n",
        "\n",
        "clf = LinearSVC(C=0.6).fit(X_vec, y)\n",
        "clf.score(X_vec, y)"
      ],
      "execution_count": 15,
      "outputs": [
        {
          "output_type": "execute_result",
          "data": {
            "text/plain": [
              "0.98916"
            ]
          },
          "metadata": {
            "tags": []
          },
          "execution_count": 15
        }
      ]
    },
    {
      "cell_type": "markdown",
      "metadata": {
        "id": "J6woirn6iKQA",
        "colab_type": "text"
      },
      "source": [
        "### Predict"
      ]
    },
    {
      "cell_type": "code",
      "metadata": {
        "id": "ygT2NFQGdYEu",
        "colab_type": "code",
        "colab": {
          "base_uri": "https://localhost:8080/",
          "height": 227
        },
        "outputId": "16b41e06-c975-47fa-f220-9677d817e3b4"
      },
      "source": [
        "X = test_df['review']\n",
        "X_clean = clean_text(X)\n",
        "X_vec = vectorizer.transform(X_clean)\n",
        "y_pred = clf.predict(X_vec)\n",
        "\n",
        "test_df['sentiment'] = y_pred\n",
        "output_df = test_df.set_index('id', drop=True)\n",
        "output_df = output_df[['sentiment']]\n",
        "output_df.head()"
      ],
      "execution_count": 29,
      "outputs": [
        {
          "output_type": "execute_result",
          "data": {
            "text/html": [
              "<div>\n",
              "<style scoped>\n",
              "    .dataframe tbody tr th:only-of-type {\n",
              "        vertical-align: middle;\n",
              "    }\n",
              "\n",
              "    .dataframe tbody tr th {\n",
              "        vertical-align: top;\n",
              "    }\n",
              "\n",
              "    .dataframe thead th {\n",
              "        text-align: right;\n",
              "    }\n",
              "</style>\n",
              "<table border=\"1\" class=\"dataframe\">\n",
              "  <thead>\n",
              "    <tr style=\"text-align: right;\">\n",
              "      <th></th>\n",
              "      <th>sentiment</th>\n",
              "    </tr>\n",
              "    <tr>\n",
              "      <th>id</th>\n",
              "      <th></th>\n",
              "    </tr>\n",
              "  </thead>\n",
              "  <tbody>\n",
              "    <tr>\n",
              "      <th>12311_10</th>\n",
              "      <td>1</td>\n",
              "    </tr>\n",
              "    <tr>\n",
              "      <th>8348_2</th>\n",
              "      <td>0</td>\n",
              "    </tr>\n",
              "    <tr>\n",
              "      <th>5828_4</th>\n",
              "      <td>0</td>\n",
              "    </tr>\n",
              "    <tr>\n",
              "      <th>7186_2</th>\n",
              "      <td>0</td>\n",
              "    </tr>\n",
              "    <tr>\n",
              "      <th>12128_7</th>\n",
              "      <td>1</td>\n",
              "    </tr>\n",
              "  </tbody>\n",
              "</table>\n",
              "</div>"
            ],
            "text/plain": [
              "          sentiment\n",
              "id                 \n",
              "12311_10          1\n",
              "8348_2            0\n",
              "5828_4            0\n",
              "7186_2            0\n",
              "12128_7           1"
            ]
          },
          "metadata": {
            "tags": []
          },
          "execution_count": 29
        }
      ]
    },
    {
      "cell_type": "markdown",
      "metadata": {
        "id": "j2hsmfqVhctG",
        "colab_type": "text"
      },
      "source": [
        "## 2.6 Save Result to CSV"
      ]
    },
    {
      "cell_type": "code",
      "metadata": {
        "id": "Ax-oO0G6eoQo",
        "colab_type": "code",
        "colab": {}
      },
      "source": [
        "odrive_path = '/content/drive/My Drive/'\n",
        "folder_path = '/kaggle_datasets/imdb_dataset/'\n",
        "file_path = 'test_pred.csv'\n",
        "\n",
        "output_df.to_csv(drive_path + folder_path + file_path, header=True)"
      ],
      "execution_count": 31,
      "outputs": []
    },
    {
      "cell_type": "code",
      "metadata": {
        "id": "YpO929f8iNE2",
        "colab_type": "code",
        "colab": {}
      },
      "source": [
        ""
      ],
      "execution_count": null,
      "outputs": []
    }
  ]
}