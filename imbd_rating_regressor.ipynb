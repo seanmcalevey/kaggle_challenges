{
  "nbformat": 4,
  "nbformat_minor": 0,
  "metadata": {
    "colab": {
      "name": "advanced_movie_recommender.ipynb",
      "provenance": [],
      "machine_shape": "hm",
      "authorship_tag": "ABX9TyOSNt/iJb8Mg+8ix1kRlNHt",
      "include_colab_link": true
    },
    "kernelspec": {
      "name": "python3",
      "display_name": "Python 3"
    },
    "accelerator": "GPU"
  },
  "cells": [
    {
      "cell_type": "markdown",
      "metadata": {
        "id": "view-in-github",
        "colab_type": "text"
      },
      "source": [
        "<a href=\"https://colab.research.google.com/github/seanmcalevey/kaggle_challenges/blob/master/imbd_rating_regressor.ipynb\" target=\"_parent\"><img src=\"https://colab.research.google.com/assets/colab-badge.svg\" alt=\"Open In Colab\"/></a>"
      ]
    },
    {
      "cell_type": "markdown",
      "metadata": {
        "id": "yCydZwwRC-uV",
        "colab_type": "text"
      },
      "source": [
        "# Basic Recommender (Text Vectorization)"
      ]
    },
    {
      "cell_type": "markdown",
      "metadata": {
        "id": "_AAMPdEMZFjI",
        "colab_type": "text"
      },
      "source": [
        "## 1.0 Load Data into DF"
      ]
    },
    {
      "cell_type": "markdown",
      "metadata": {
        "id": "yJq23BoWA1TO",
        "colab_type": "text"
      },
      "source": [
        "### Basic Imports (Colab)"
      ]
    },
    {
      "cell_type": "code",
      "metadata": {
        "id": "80xZIhO3tG7Z",
        "colab_type": "code",
        "colab": {
          "base_uri": "https://localhost:8080/",
          "height": 125
        },
        "outputId": "a0236b18-fe5f-4ab1-9c0e-593872fb4240"
      },
      "source": [
        "import numpy as np\n",
        "import pandas as pd\n",
        "import matplotlib.pyplot as plt\n",
        "from google.colab import drive\n",
        "\n",
        "drive.mount('/content/drive/')"
      ],
      "execution_count": 1,
      "outputs": [
        {
          "output_type": "stream",
          "text": [
            "Go to this URL in a browser: https://accounts.google.com/o/oauth2/auth?client_id=947318989803-6bn6qk8qdgf4n4g3pfee6491hc0brc4i.apps.googleusercontent.com&redirect_uri=urn%3aietf%3awg%3aoauth%3a2.0%3aoob&response_type=code&scope=email%20https%3a%2f%2fwww.googleapis.com%2fauth%2fdocs.test%20https%3a%2f%2fwww.googleapis.com%2fauth%2fdrive%20https%3a%2f%2fwww.googleapis.com%2fauth%2fdrive.photos.readonly%20https%3a%2f%2fwww.googleapis.com%2fauth%2fpeopleapi.readonly\n",
            "\n",
            "Enter your authorization code:\n",
            "··········\n",
            "Mounted at /content/drive/\n"
          ],
          "name": "stdout"
        }
      ]
    },
    {
      "cell_type": "markdown",
      "metadata": {
        "id": "CNxJqF_ftoH-",
        "colab_type": "text"
      },
      "source": [
        "### Main DF"
      ]
    },
    {
      "cell_type": "code",
      "metadata": {
        "id": "48QDpdJatLzA",
        "colab_type": "code",
        "colab": {
          "base_uri": "https://localhost:8080/",
          "height": 72
        },
        "outputId": "16833eda-c517-49bb-e061-f26e9bffb5a7"
      },
      "source": [
        "drive_path = '/content/drive/My Drive/'\n",
        "folder_path = 'kaggle_datasets/movies_dataset/'\n",
        "file_path = 'movies_metadata.csv'\n",
        "metadata_df = pd.read_csv(drive_path + folder_path + file_path)"
      ],
      "execution_count": 233,
      "outputs": [
        {
          "output_type": "stream",
          "text": [
            "/usr/local/lib/python3.6/dist-packages/IPython/core/interactiveshell.py:2718: DtypeWarning: Columns (10) have mixed types.Specify dtype option on import or set low_memory=False.\n",
            "  interactivity=interactivity, compiler=compiler, result=result)\n"
          ],
          "name": "stderr"
        }
      ]
    },
    {
      "cell_type": "markdown",
      "metadata": {
        "id": "TP-crrBsA6kc",
        "colab_type": "text"
      },
      "source": [
        "### Trim Down Dataset Features"
      ]
    },
    {
      "cell_type": "code",
      "metadata": {
        "id": "WOyRSLKmtpqE",
        "colab_type": "code",
        "colab": {
          "base_uri": "https://localhost:8080/",
          "height": 34
        },
        "outputId": "c9bda8c2-eb27-4445-9023-812ac3716b8c"
      },
      "source": [
        "cols_to_keep = ['original_title', 'overview', 'original_language', 'spoken_languages', 'vote_count', 'budget', 'genres', 'popularity', 'production_companies',\n",
        "                'revenue', 'runtime', 'vote_average', 'release_date']\n",
        "overview_df = metadata_df[cols_to_keep]\n",
        "overview_df = overview_df[overview_df['original_language'] == 'en'] # only english movies\n",
        "overview_df = overview_df.drop('original_language', axis=1) # drop language feature\n",
        "overview_df = overview_df.dropna(subset=['overview']) # drop nans\n",
        "overview_df = overview_df.reset_index(drop=True)\n",
        "overview_df.shape"
      ],
      "execution_count": 260,
      "outputs": [
        {
          "output_type": "execute_result",
          "data": {
            "text/plain": [
              "(32200, 12)"
            ]
          },
          "metadata": {
            "tags": []
          },
          "execution_count": 260
        }
      ]
    },
    {
      "cell_type": "markdown",
      "metadata": {
        "id": "34vMIVtYKwKi",
        "colab_type": "text"
      },
      "source": [
        "### Convert to Propert Dtypes"
      ]
    },
    {
      "cell_type": "code",
      "metadata": {
        "id": "BfRzc4caKvrO",
        "colab_type": "code",
        "colab": {}
      },
      "source": [
        "overview_df['budget'] = overview_df['budget'].astype(float)\n",
        "overview_df['popularity'] = overview_df['popularity'].astype(float)"
      ],
      "execution_count": 261,
      "outputs": []
    },
    {
      "cell_type": "markdown",
      "metadata": {
        "id": "mu5QyN5ZJSWB",
        "colab_type": "text"
      },
      "source": [
        "### Only English-Lang. Movies"
      ]
    },
    {
      "cell_type": "code",
      "metadata": {
        "id": "G1QYKcLAJB1m",
        "colab_type": "code",
        "colab": {
          "base_uri": "https://localhost:8080/",
          "height": 34
        },
        "outputId": "21f475d8-8c1b-40c8-c1d0-cdb91aedc1d5"
      },
      "source": [
        "import re\n",
        "\n",
        "idxs = [i for i, language in enumerate(overview_df['spoken_languages']) if re.search('English', str(language))]\n",
        "overview_df = overview_df.iloc[idxs, :]\n",
        "overview_df = overview_df.reset_index(drop=True)\n",
        "overview_df.shape"
      ],
      "execution_count": 262,
      "outputs": [
        {
          "output_type": "execute_result",
          "data": {
            "text/plain": [
              "(26909, 12)"
            ]
          },
          "metadata": {
            "tags": []
          },
          "execution_count": 262
        }
      ]
    },
    {
      "cell_type": "markdown",
      "metadata": {
        "id": "Vp3G7L4AX5me",
        "colab_type": "text"
      },
      "source": [
        "## 2.0 Pre-Processing: Numerical Vars"
      ]
    },
    {
      "cell_type": "markdown",
      "metadata": {
        "id": "HkwtrG8bKN2z",
        "colab_type": "text"
      },
      "source": [
        "### Exploratory Data Analysis"
      ]
    },
    {
      "cell_type": "code",
      "metadata": {
        "id": "GUGPtg6eKPmC",
        "colab_type": "code",
        "colab": {
          "base_uri": "https://localhost:8080/",
          "height": 552
        },
        "outputId": "87342eea-3b65-409e-927f-14459f3c8e5f"
      },
      "source": [
        "import seaborn as sns\n",
        "\n",
        "numerical = overview_df.dtypes == float\n",
        "\n",
        "fig, ax = plt.subplots(2, 6, figsize=(22,9))\n",
        "for i, feature in enumerate(overview_df.columns[numerical]):\n",
        "  sns.regplot(overview_df[feature], overview_df['vote_average'], ax=ax[0,i], scatter_kws={'alpha': 0.1, 's': 0.5})\n",
        "  sns.distplot(overview_df[feature], ax=ax[1,i])\n",
        "  \n",
        "plt.show()"
      ],
      "execution_count": 240,
      "outputs": [
        {
          "output_type": "display_data",
          "data": {
            "image/png": "[encoded data removed]",
            "text/plain": [
              "<Figure size 1584x648 with 12 Axes>"
            ]
          },
          "metadata": {
            "tags": [],
            "needs_background": "light"
          }
        }
      ]
    },
    {
      "cell_type": "markdown",
      "metadata": {
        "id": "Qramc3irM5ov",
        "colab_type": "text"
      },
      "source": [
        "### Remove High Outliers"
      ]
    },
    {
      "cell_type": "code",
      "metadata": {
        "id": "0IF9vLM4M7Rv",
        "colab_type": "code",
        "colab": {
          "base_uri": "https://localhost:8080/",
          "height": 123
        },
        "outputId": "46ccba62-5607-47e5-f3ff-327f8fed2b37"
      },
      "source": [
        "print(overview_df.shape)\n",
        "max_vote_count = 2000\n",
        "overview_df = overview_df[overview_df['vote_count'] <= max_vote_count]\n",
        "print(overview_df.shape)\n",
        "max_budget = 1e8\n",
        "overview_df = overview_df[overview_df['budget'] <= max_budget]\n",
        "print(overview_df.shape)\n",
        "max_pop = 25\n",
        "overview_df = overview_df[overview_df['popularity'] <= max_pop]\n",
        "print(overview_df.shape)\n",
        "max_revenue = 1e9\n",
        "overview_df = overview_df[overview_df['revenue'] <= max_revenue]\n",
        "print(overview_df.shape)\n",
        "max_runtime = 200\n",
        "overview_df = overview_df[overview_df['runtime'] <= max_runtime]\n",
        "print(overview_df.shape)"
      ],
      "execution_count": 263,
      "outputs": [
        {
          "output_type": "stream",
          "text": [
            "(26909, 12)\n",
            "(26407, 12)\n",
            "(26283, 12)\n",
            "(26252, 12)\n",
            "(26252, 12)\n",
            "(26083, 12)\n"
          ],
          "name": "stdout"
        }
      ]
    },
    {
      "cell_type": "markdown",
      "metadata": {
        "id": "A40CsYCfV2Z4",
        "colab_type": "text"
      },
      "source": [
        "### Remove Low Outliers"
      ]
    },
    {
      "cell_type": "code",
      "metadata": {
        "id": "AdmgngeSV1vP",
        "colab_type": "code",
        "colab": {
          "base_uri": "https://localhost:8080/",
          "height": 105
        },
        "outputId": "fbe45d93-2b14-4aa1-e755-9baa443e2361"
      },
      "source": [
        "min_vote_count = 3\n",
        "overview_df = overview_df[overview_df['vote_count'] >= min_vote_count]\n",
        "print(overview_df.shape)\n",
        "min_budget = 1e4\n",
        "overview_df = overview_df[overview_df['budget'] >= min_budget]\n",
        "print(overview_df.shape)\n",
        "min_pop = 1\n",
        "overview_df = overview_df[overview_df['popularity'] >= min_pop]\n",
        "print(overview_df.shape)\n",
        "min_revenue = 1e4\n",
        "overview_df = overview_df[overview_df['revenue'] >= min_revenue]\n",
        "print(overview_df.shape)\n",
        "min_runtime = 30\n",
        "overview_df = overview_df[overview_df['runtime'] >= min_runtime]\n",
        "print(overview_df.shape)"
      ],
      "execution_count": 264,
      "outputs": [
        {
          "output_type": "stream",
          "text": [
            "(22092, 12)\n",
            "(6137, 12)\n",
            "(5714, 12)\n",
            "(3891, 12)\n",
            "(3890, 12)\n"
          ],
          "name": "stdout"
        }
      ]
    },
    {
      "cell_type": "markdown",
      "metadata": {
        "id": "f-C0-nqNPVzR",
        "colab_type": "text"
      },
      "source": [
        "### New Visualizations with Outliers Removed"
      ]
    },
    {
      "cell_type": "code",
      "metadata": {
        "id": "ccHTWM04PU_w",
        "colab_type": "code",
        "colab": {
          "base_uri": "https://localhost:8080/",
          "height": 554
        },
        "outputId": "6e10e9c5-fa2c-47a6-8479-1003b0e72b50"
      },
      "source": [
        "fig, ax = plt.subplots(2, 6, figsize=(22,9))\n",
        "for i, feature in enumerate(overview_df.columns[numerical]):\n",
        "  sns.regplot(overview_df[feature], overview_df['vote_average'], ax=ax[0,i], scatter_kws={'alpha': 0.2, 's': 0.5})\n",
        "  sns.distplot(overview_df[feature], ax=ax[1,i])\n",
        "  \n",
        "plt.show()"
      ],
      "execution_count": 265,
      "outputs": [
        {
          "output_type": "display_data",
          "data": {
            "image/png": "[encoded data removed]",
            "text/plain": [
              "<Figure size 1584x648 with 12 Axes>"
            ]
          },
          "metadata": {
            "tags": [],
            "needs_background": "light"
          }
        }
      ]
    },
    {
      "cell_type": "markdown",
      "metadata": {
        "id": "mEqfnR5rX3dY",
        "colab_type": "text"
      },
      "source": [
        "## 3.0 Pre-Processing: Categorical Vars"
      ]
    },
    {
      "cell_type": "markdown",
      "metadata": {
        "id": "vydmlYqpSOxP",
        "colab_type": "text"
      },
      "source": [
        "### Feature Extraction: Production Company Text"
      ]
    },
    {
      "cell_type": "code",
      "metadata": {
        "id": "7znfSxxVR8zs",
        "colab_type": "code",
        "colab": {
          "base_uri": "https://localhost:8080/",
          "height": 584
        },
        "outputId": "0b894b44-feb1-4749-ec05-9815ac3f504b"
      },
      "source": [
        "overview_df = overview_df.dropna(subset=['production_companies'])\n",
        "\n",
        "companies = []\n",
        "\n",
        "for i, company in enumerate(overview_df['production_companies']):\n",
        "  company = str(company)\n",
        "  tmp_obj = re.search('name\\': \\'', company)\n",
        "  try:\n",
        "    start_idx = tmp_obj.span()[1]\n",
        "    new_string = company[start_idx:]\n",
        "  except:\n",
        "    new_string = company\n",
        "  try:\n",
        "    end_idx = re.search('\\'', new_string).span()[1] - 1\n",
        "    company_name = new_string[:end_idx]\n",
        "  except:\n",
        "    company_name = new_string\n",
        "  companies.append(company_name)\n",
        "\n",
        "overview_df['prod_companies'] = companies\n",
        "overview_df.head()"
      ],
      "execution_count": 266,
      "outputs": [
        {
          "output_type": "execute_result",
          "data": {
            "text/html": [
              "<div>\n",
              "<style scoped>\n",
              "    .dataframe tbody tr th:only-of-type {\n",
              "        vertical-align: middle;\n",
              "    }\n",
              "\n",
              "    .dataframe tbody tr th {\n",
              "        vertical-align: top;\n",
              "    }\n",
              "\n",
              "    .dataframe thead th {\n",
              "        text-align: right;\n",
              "    }\n",
              "</style>\n",
              "<table border=\"1\" class=\"dataframe\">\n",
              "  <thead>\n",
              "    <tr style=\"text-align: right;\">\n",
              "      <th></th>\n",
              "      <th>original_title</th>\n",
              "      <th>overview</th>\n",
              "      <th>spoken_languages</th>\n",
              "      <th>vote_count</th>\n",
              "      <th>budget</th>\n",
              "      <th>genres</th>\n",
              "      <th>popularity</th>\n",
              "      <th>production_companies</th>\n",
              "      <th>revenue</th>\n",
              "      <th>runtime</th>\n",
              "      <th>vote_average</th>\n",
              "      <th>release_date</th>\n",
              "      <th>prod_companies</th>\n",
              "    </tr>\n",
              "  </thead>\n",
              "  <tbody>\n",
              "    <tr>\n",
              "      <th>3</th>\n",
              "      <td>Waiting to Exhale</td>\n",
              "      <td>Cheated on, mistreated and stepped on, the wom...</td>\n",
              "      <td>[{'iso_639_1': 'en', 'name': 'English'}]</td>\n",
              "      <td>34.0</td>\n",
              "      <td>16000000.0</td>\n",
              "      <td>[{'id': 35, 'name': 'Comedy'}, {'id': 18, 'nam...</td>\n",
              "      <td>3.859495</td>\n",
              "      <td>[{'name': 'Twentieth Century Fox Film Corporat...</td>\n",
              "      <td>81452156.0</td>\n",
              "      <td>127.0</td>\n",
              "      <td>6.1</td>\n",
              "      <td>1995-12-22</td>\n",
              "      <td>Twentieth Century Fox Film Corporation</td>\n",
              "    </tr>\n",
              "    <tr>\n",
              "      <th>5</th>\n",
              "      <td>Heat</td>\n",
              "      <td>Obsessive master thief, Neil McCauley leads a ...</td>\n",
              "      <td>[{'iso_639_1': 'en', 'name': 'English'}, {'iso...</td>\n",
              "      <td>1886.0</td>\n",
              "      <td>60000000.0</td>\n",
              "      <td>[{'id': 28, 'name': 'Action'}, {'id': 80, 'nam...</td>\n",
              "      <td>17.924927</td>\n",
              "      <td>[{'name': 'Regency Enterprises', 'id': 508}, {...</td>\n",
              "      <td>187436818.0</td>\n",
              "      <td>170.0</td>\n",
              "      <td>7.7</td>\n",
              "      <td>1995-12-15</td>\n",
              "      <td>Regency Enterprises</td>\n",
              "    </tr>\n",
              "    <tr>\n",
              "      <th>8</th>\n",
              "      <td>Sudden Death</td>\n",
              "      <td>International action superstar Jean Claude Van...</td>\n",
              "      <td>[{'iso_639_1': 'en', 'name': 'English'}]</td>\n",
              "      <td>174.0</td>\n",
              "      <td>35000000.0</td>\n",
              "      <td>[{'id': 28, 'name': 'Action'}, {'id': 12, 'nam...</td>\n",
              "      <td>5.231580</td>\n",
              "      <td>[{'name': 'Universal Pictures', 'id': 33}, {'n...</td>\n",
              "      <td>64350171.0</td>\n",
              "      <td>106.0</td>\n",
              "      <td>5.5</td>\n",
              "      <td>1995-12-22</td>\n",
              "      <td>Universal Pictures</td>\n",
              "    </tr>\n",
              "    <tr>\n",
              "      <th>9</th>\n",
              "      <td>GoldenEye</td>\n",
              "      <td>James Bond must unmask the mysterious head of ...</td>\n",
              "      <td>[{'iso_639_1': 'en', 'name': 'English'}, {'iso...</td>\n",
              "      <td>1194.0</td>\n",
              "      <td>58000000.0</td>\n",
              "      <td>[{'id': 12, 'name': 'Adventure'}, {'id': 28, '...</td>\n",
              "      <td>14.686036</td>\n",
              "      <td>[{'name': 'United Artists', 'id': 60}, {'name'...</td>\n",
              "      <td>352194034.0</td>\n",
              "      <td>130.0</td>\n",
              "      <td>6.6</td>\n",
              "      <td>1995-11-16</td>\n",
              "      <td>United Artists</td>\n",
              "    </tr>\n",
              "    <tr>\n",
              "      <th>10</th>\n",
              "      <td>The American President</td>\n",
              "      <td>Widowed U.S. president Andrew Shepherd, one of...</td>\n",
              "      <td>[{'iso_639_1': 'en', 'name': 'English'}]</td>\n",
              "      <td>199.0</td>\n",
              "      <td>62000000.0</td>\n",
              "      <td>[{'id': 35, 'name': 'Comedy'}, {'id': 18, 'nam...</td>\n",
              "      <td>6.318445</td>\n",
              "      <td>[{'name': 'Columbia Pictures', 'id': 5}, {'nam...</td>\n",
              "      <td>107879496.0</td>\n",
              "      <td>106.0</td>\n",
              "      <td>6.5</td>\n",
              "      <td>1995-11-17</td>\n",
              "      <td>Columbia Pictures</td>\n",
              "    </tr>\n",
              "  </tbody>\n",
              "</table>\n",
              "</div>"
            ],
            "text/plain": [
              "            original_title  ...                          prod_companies\n",
              "3        Waiting to Exhale  ...  Twentieth Century Fox Film Corporation\n",
              "5                     Heat  ...                     Regency Enterprises\n",
              "8             Sudden Death  ...                      Universal Pictures\n",
              "9                GoldenEye  ...                          United Artists\n",
              "10  The American President  ...                       Columbia Pictures\n",
              "\n",
              "[5 rows x 13 columns]"
            ]
          },
          "metadata": {
            "tags": []
          },
          "execution_count": 266
        }
      ]
    },
    {
      "cell_type": "markdown",
      "metadata": {
        "id": "Gs094x9nEOgf",
        "colab_type": "text"
      },
      "source": [
        "### Remove Low-Count Production Companies"
      ]
    },
    {
      "cell_type": "code",
      "metadata": {
        "id": "5tRPp4QuETOV",
        "colab_type": "code",
        "colab": {
          "base_uri": "https://localhost:8080/",
          "height": 602
        },
        "outputId": "290876a5-8a89-4d96-d4eb-1711cbbfc769"
      },
      "source": [
        "min_n_prods = 5\n",
        "\n",
        "bool_series = overview_df['prod_companies'].value_counts() >= min_n_prods\n",
        "tmp_dict = bool_series.to_dict()\n",
        "new_dict = {}\n",
        "for key, value in tmp_dict.items():\n",
        "  if value == True:\n",
        "    new_dict[key] = key\n",
        "  else:\n",
        "    new_dict[key] = np.nan\n",
        "overview_df['prod_companies'] = overview_df['prod_companies'].map(new_dict)\n",
        "print(overview_df.shape)\n",
        "overview_df.head()"
      ],
      "execution_count": 267,
      "outputs": [
        {
          "output_type": "stream",
          "text": [
            "(3890, 13)\n"
          ],
          "name": "stdout"
        },
        {
          "output_type": "execute_result",
          "data": {
            "text/html": [
              "<div>\n",
              "<style scoped>\n",
              "    .dataframe tbody tr th:only-of-type {\n",
              "        vertical-align: middle;\n",
              "    }\n",
              "\n",
              "    .dataframe tbody tr th {\n",
              "        vertical-align: top;\n",
              "    }\n",
              "\n",
              "    .dataframe thead th {\n",
              "        text-align: right;\n",
              "    }\n",
              "</style>\n",
              "<table border=\"1\" class=\"dataframe\">\n",
              "  <thead>\n",
              "    <tr style=\"text-align: right;\">\n",
              "      <th></th>\n",
              "      <th>original_title</th>\n",
              "      <th>overview</th>\n",
              "      <th>spoken_languages</th>\n",
              "      <th>vote_count</th>\n",
              "      <th>budget</th>\n",
              "      <th>genres</th>\n",
              "      <th>popularity</th>\n",
              "      <th>production_companies</th>\n",
              "      <th>revenue</th>\n",
              "      <th>runtime</th>\n",
              "      <th>vote_average</th>\n",
              "      <th>release_date</th>\n",
              "      <th>prod_companies</th>\n",
              "    </tr>\n",
              "  </thead>\n",
              "  <tbody>\n",
              "    <tr>\n",
              "      <th>3</th>\n",
              "      <td>Waiting to Exhale</td>\n",
              "      <td>Cheated on, mistreated and stepped on, the wom...</td>\n",
              "      <td>[{'iso_639_1': 'en', 'name': 'English'}]</td>\n",
              "      <td>34.0</td>\n",
              "      <td>16000000.0</td>\n",
              "      <td>[{'id': 35, 'name': 'Comedy'}, {'id': 18, 'nam...</td>\n",
              "      <td>3.859495</td>\n",
              "      <td>[{'name': 'Twentieth Century Fox Film Corporat...</td>\n",
              "      <td>81452156.0</td>\n",
              "      <td>127.0</td>\n",
              "      <td>6.1</td>\n",
              "      <td>1995-12-22</td>\n",
              "      <td>Twentieth Century Fox Film Corporation</td>\n",
              "    </tr>\n",
              "    <tr>\n",
              "      <th>5</th>\n",
              "      <td>Heat</td>\n",
              "      <td>Obsessive master thief, Neil McCauley leads a ...</td>\n",
              "      <td>[{'iso_639_1': 'en', 'name': 'English'}, {'iso...</td>\n",
              "      <td>1886.0</td>\n",
              "      <td>60000000.0</td>\n",
              "      <td>[{'id': 28, 'name': 'Action'}, {'id': 80, 'nam...</td>\n",
              "      <td>17.924927</td>\n",
              "      <td>[{'name': 'Regency Enterprises', 'id': 508}, {...</td>\n",
              "      <td>187436818.0</td>\n",
              "      <td>170.0</td>\n",
              "      <td>7.7</td>\n",
              "      <td>1995-12-15</td>\n",
              "      <td>Regency Enterprises</td>\n",
              "    </tr>\n",
              "    <tr>\n",
              "      <th>8</th>\n",
              "      <td>Sudden Death</td>\n",
              "      <td>International action superstar Jean Claude Van...</td>\n",
              "      <td>[{'iso_639_1': 'en', 'name': 'English'}]</td>\n",
              "      <td>174.0</td>\n",
              "      <td>35000000.0</td>\n",
              "      <td>[{'id': 28, 'name': 'Action'}, {'id': 12, 'nam...</td>\n",
              "      <td>5.231580</td>\n",
              "      <td>[{'name': 'Universal Pictures', 'id': 33}, {'n...</td>\n",
              "      <td>64350171.0</td>\n",
              "      <td>106.0</td>\n",
              "      <td>5.5</td>\n",
              "      <td>1995-12-22</td>\n",
              "      <td>Universal Pictures</td>\n",
              "    </tr>\n",
              "    <tr>\n",
              "      <th>9</th>\n",
              "      <td>GoldenEye</td>\n",
              "      <td>James Bond must unmask the mysterious head of ...</td>\n",
              "      <td>[{'iso_639_1': 'en', 'name': 'English'}, {'iso...</td>\n",
              "      <td>1194.0</td>\n",
              "      <td>58000000.0</td>\n",
              "      <td>[{'id': 12, 'name': 'Adventure'}, {'id': 28, '...</td>\n",
              "      <td>14.686036</td>\n",
              "      <td>[{'name': 'United Artists', 'id': 60}, {'name'...</td>\n",
              "      <td>352194034.0</td>\n",
              "      <td>130.0</td>\n",
              "      <td>6.6</td>\n",
              "      <td>1995-11-16</td>\n",
              "      <td>United Artists</td>\n",
              "    </tr>\n",
              "    <tr>\n",
              "      <th>10</th>\n",
              "      <td>The American President</td>\n",
              "      <td>Widowed U.S. president Andrew Shepherd, one of...</td>\n",
              "      <td>[{'iso_639_1': 'en', 'name': 'English'}]</td>\n",
              "      <td>199.0</td>\n",
              "      <td>62000000.0</td>\n",
              "      <td>[{'id': 35, 'name': 'Comedy'}, {'id': 18, 'nam...</td>\n",
              "      <td>6.318445</td>\n",
              "      <td>[{'name': 'Columbia Pictures', 'id': 5}, {'nam...</td>\n",
              "      <td>107879496.0</td>\n",
              "      <td>106.0</td>\n",
              "      <td>6.5</td>\n",
              "      <td>1995-11-17</td>\n",
              "      <td>Columbia Pictures</td>\n",
              "    </tr>\n",
              "  </tbody>\n",
              "</table>\n",
              "</div>"
            ],
            "text/plain": [
              "            original_title  ...                          prod_companies\n",
              "3        Waiting to Exhale  ...  Twentieth Century Fox Film Corporation\n",
              "5                     Heat  ...                     Regency Enterprises\n",
              "8             Sudden Death  ...                      Universal Pictures\n",
              "9                GoldenEye  ...                          United Artists\n",
              "10  The American President  ...                       Columbia Pictures\n",
              "\n",
              "[5 rows x 13 columns]"
            ]
          },
          "metadata": {
            "tags": []
          },
          "execution_count": 267
        }
      ]
    },
    {
      "cell_type": "markdown",
      "metadata": {
        "id": "CG83Tyn8gk20",
        "colab_type": "text"
      },
      "source": [
        "### Feature Extraction: Genre Text"
      ]
    },
    {
      "cell_type": "code",
      "metadata": {
        "id": "TMn7U0JCgmVn",
        "colab_type": "code",
        "colab": {}
      },
      "source": [
        "overview_df = overview_df.dropna(subset=['genres'])\n",
        "\n",
        "genres = []\n",
        "\n",
        "for i, genre in enumerate(overview_df['genres']):\n",
        "  genre = str(genre)\n",
        "  first_obj = re.search('}', genre)\n",
        "  try:\n",
        "    end_idx = first_obj.span()[0]\n",
        "    new_string = genre[:end_idx]\n",
        "  except:\n",
        "    new_string = genre\n",
        "  try:\n",
        "    start_idx = re.search(':.*:', new_string).span()[1] + 1\n",
        "    first_genre = new_string[start_idx:]\n",
        "  except:\n",
        "    first_genre = new_string\n",
        "  try:\n",
        "    second_genre = genre[end_idx:]\n",
        "    second_obj = re.search('}', second_genre)\n",
        "    try:\n",
        "      end_idx = second_obj.span()[0]\n",
        "      new_string = second_genre[:end_idx]\n",
        "    except:\n",
        "      new_string = second_genre\n",
        "    try:\n",
        "      start_idx = re.search(':.*:', new_string).span()[1] + 1\n",
        "      second_genre = new_string[start_idx:]\n",
        "    except:\n",
        "      second_genre = new_string\n",
        "    genres.append([first_genre, second_genre])\n",
        "  except:\n",
        "    genres.append([first_genre])\n",
        "\n",
        "overview_df['proc_genres'] = [re.sub('[^A-Za-z]', '', str(genre)) for genre in genres]"
      ],
      "execution_count": 268,
      "outputs": []
    },
    {
      "cell_type": "markdown",
      "metadata": {
        "id": "6vOR_Qw_gaou",
        "colab_type": "text"
      },
      "source": [
        "### Drop Unnecessary or Redundant Features"
      ]
    },
    {
      "cell_type": "code",
      "metadata": {
        "id": "0bNZh4eSfpfh",
        "colab_type": "code",
        "colab": {
          "base_uri": "https://localhost:8080/",
          "height": 281
        },
        "outputId": "7971c41b-802a-4f25-bfb3-337a06a7f305"
      },
      "source": [
        "cols_to_keep = ['original_title', 'overview', 'vote_count', 'vote_average', 'budget', 'proc_genres', 'popularity',\n",
        "                'prod_companies', 'revenue', 'runtime', 'release_date']\n",
        "overview_df = overview_df[cols_to_keep]\n",
        "overview_df.head()"
      ],
      "execution_count": 271,
      "outputs": [
        {
          "output_type": "execute_result",
          "data": {
            "text/html": [
              "<div>\n",
              "<style scoped>\n",
              "    .dataframe tbody tr th:only-of-type {\n",
              "        vertical-align: middle;\n",
              "    }\n",
              "\n",
              "    .dataframe tbody tr th {\n",
              "        vertical-align: top;\n",
              "    }\n",
              "\n",
              "    .dataframe thead th {\n",
              "        text-align: right;\n",
              "    }\n",
              "</style>\n",
              "<table border=\"1\" class=\"dataframe\">\n",
              "  <thead>\n",
              "    <tr style=\"text-align: right;\">\n",
              "      <th></th>\n",
              "      <th>original_title</th>\n",
              "      <th>overview</th>\n",
              "      <th>vote_count</th>\n",
              "      <th>vote_average</th>\n",
              "      <th>budget</th>\n",
              "      <th>proc_genres</th>\n",
              "      <th>popularity</th>\n",
              "      <th>prod_companies</th>\n",
              "      <th>revenue</th>\n",
              "      <th>runtime</th>\n",
              "      <th>release_date</th>\n",
              "    </tr>\n",
              "  </thead>\n",
              "  <tbody>\n",
              "    <tr>\n",
              "      <th>3</th>\n",
              "      <td>Waiting to Exhale</td>\n",
              "      <td>Cheated on, mistreated and stepped on, the wom...</td>\n",
              "      <td>34.0</td>\n",
              "      <td>6.1</td>\n",
              "      <td>16000000.0</td>\n",
              "      <td>Comedy</td>\n",
              "      <td>3.859495</td>\n",
              "      <td>Twentieth Century Fox Film Corporation</td>\n",
              "      <td>81452156.0</td>\n",
              "      <td>127.0</td>\n",
              "      <td>1995-12-22</td>\n",
              "    </tr>\n",
              "    <tr>\n",
              "      <th>5</th>\n",
              "      <td>Heat</td>\n",
              "      <td>Obsessive master thief, Neil McCauley leads a ...</td>\n",
              "      <td>1886.0</td>\n",
              "      <td>7.7</td>\n",
              "      <td>60000000.0</td>\n",
              "      <td>Action</td>\n",
              "      <td>17.924927</td>\n",
              "      <td>Regency Enterprises</td>\n",
              "      <td>187436818.0</td>\n",
              "      <td>170.0</td>\n",
              "      <td>1995-12-15</td>\n",
              "    </tr>\n",
              "    <tr>\n",
              "      <th>8</th>\n",
              "      <td>Sudden Death</td>\n",
              "      <td>International action superstar Jean Claude Van...</td>\n",
              "      <td>174.0</td>\n",
              "      <td>5.5</td>\n",
              "      <td>35000000.0</td>\n",
              "      <td>Action</td>\n",
              "      <td>5.231580</td>\n",
              "      <td>Universal Pictures</td>\n",
              "      <td>64350171.0</td>\n",
              "      <td>106.0</td>\n",
              "      <td>1995-12-22</td>\n",
              "    </tr>\n",
              "    <tr>\n",
              "      <th>9</th>\n",
              "      <td>GoldenEye</td>\n",
              "      <td>James Bond must unmask the mysterious head of ...</td>\n",
              "      <td>1194.0</td>\n",
              "      <td>6.6</td>\n",
              "      <td>58000000.0</td>\n",
              "      <td>Adventure</td>\n",
              "      <td>14.686036</td>\n",
              "      <td>United Artists</td>\n",
              "      <td>352194034.0</td>\n",
              "      <td>130.0</td>\n",
              "      <td>1995-11-16</td>\n",
              "    </tr>\n",
              "    <tr>\n",
              "      <th>10</th>\n",
              "      <td>The American President</td>\n",
              "      <td>Widowed U.S. president Andrew Shepherd, one of...</td>\n",
              "      <td>199.0</td>\n",
              "      <td>6.5</td>\n",
              "      <td>62000000.0</td>\n",
              "      <td>Comedy</td>\n",
              "      <td>6.318445</td>\n",
              "      <td>Columbia Pictures</td>\n",
              "      <td>107879496.0</td>\n",
              "      <td>106.0</td>\n",
              "      <td>1995-11-17</td>\n",
              "    </tr>\n",
              "  </tbody>\n",
              "</table>\n",
              "</div>"
            ],
            "text/plain": [
              "            original_title  ... release_date\n",
              "3        Waiting to Exhale  ...   1995-12-22\n",
              "5                     Heat  ...   1995-12-15\n",
              "8             Sudden Death  ...   1995-12-22\n",
              "9                GoldenEye  ...   1995-11-16\n",
              "10  The American President  ...   1995-11-17\n",
              "\n",
              "[5 rows x 11 columns]"
            ]
          },
          "metadata": {
            "tags": []
          },
          "execution_count": 271
        }
      ]
    },
    {
      "cell_type": "markdown",
      "metadata": {
        "id": "fv9CCvzqkBSP",
        "colab_type": "text"
      },
      "source": [
        "### Encode Datetime by Year\n",
        "\n",
        "\n",
        "\n"
      ]
    },
    {
      "cell_type": "code",
      "metadata": {
        "id": "1RYRDDXykDR2",
        "colab_type": "code",
        "colab": {
          "base_uri": "https://localhost:8080/",
          "height": 123
        },
        "outputId": "5620abaa-7152-482a-c463-62c8ac262fb4"
      },
      "source": [
        "year_list = []\n",
        "for date_str in overview_df['release_date']:\n",
        "  year = date_str[:4]\n",
        "  year = ''.join(year)\n",
        "  year_list.append(year)\n",
        "overview_df['date'] = year_list"
      ],
      "execution_count": 279,
      "outputs": [
        {
          "output_type": "stream",
          "text": [
            "/usr/local/lib/python3.6/dist-packages/ipykernel_launcher.py:6: SettingWithCopyWarning: \n",
            "A value is trying to be set on a copy of a slice from a DataFrame.\n",
            "Try using .loc[row_indexer,col_indexer] = value instead\n",
            "\n",
            "See the caveats in the documentation: https://pandas.pydata.org/pandas-docs/stable/user_guide/indexing.html#returning-a-view-versus-a-copy\n",
            "  \n"
          ],
          "name": "stderr"
        }
      ]
    },
    {
      "cell_type": "markdown",
      "metadata": {
        "id": "N0k92N5WoLSW",
        "colab_type": "text"
      },
      "source": [
        "### Remove Years with Few Movies"
      ]
    },
    {
      "cell_type": "code",
      "metadata": {
        "id": "Y7HK8gdInJep",
        "colab_type": "code",
        "colab": {
          "base_uri": "https://localhost:8080/",
          "height": 405
        },
        "outputId": "d70f295d-cbc5-4a07-8cd9-f4a417bf790b"
      },
      "source": [
        "min_samples = 5\n",
        "\n",
        "bool_series = overview_df['date'].value_counts() >= min_samples\n",
        "tmp_dict = bool_series.to_dict()\n",
        "new_dict = {key: key if value == True else np.nan for key, value in tmp_dict.items()}\n",
        "overview_df['date'] = overview_df['date'].map(new_dict)\n",
        "print(overview_df['date'].isna().sum())\n",
        "overview_df.head()"
      ],
      "execution_count": 285,
      "outputs": [
        {
          "output_type": "stream",
          "text": [
            "47\n"
          ],
          "name": "stdout"
        },
        {
          "output_type": "stream",
          "text": [
            "/usr/local/lib/python3.6/dist-packages/ipykernel_launcher.py:6: SettingWithCopyWarning: \n",
            "A value is trying to be set on a copy of a slice from a DataFrame.\n",
            "Try using .loc[row_indexer,col_indexer] = value instead\n",
            "\n",
            "See the caveats in the documentation: https://pandas.pydata.org/pandas-docs/stable/user_guide/indexing.html#returning-a-view-versus-a-copy\n",
            "  \n"
          ],
          "name": "stderr"
        },
        {
          "output_type": "execute_result",
          "data": {
            "text/html": [
              "<div>\n",
              "<style scoped>\n",
              "    .dataframe tbody tr th:only-of-type {\n",
              "        vertical-align: middle;\n",
              "    }\n",
              "\n",
              "    .dataframe tbody tr th {\n",
              "        vertical-align: top;\n",
              "    }\n",
              "\n",
              "    .dataframe thead th {\n",
              "        text-align: right;\n",
              "    }\n",
              "</style>\n",
              "<table border=\"1\" class=\"dataframe\">\n",
              "  <thead>\n",
              "    <tr style=\"text-align: right;\">\n",
              "      <th></th>\n",
              "      <th>original_title</th>\n",
              "      <th>overview</th>\n",
              "      <th>vote_count</th>\n",
              "      <th>vote_average</th>\n",
              "      <th>budget</th>\n",
              "      <th>proc_genres</th>\n",
              "      <th>popularity</th>\n",
              "      <th>prod_companies</th>\n",
              "      <th>revenue</th>\n",
              "      <th>runtime</th>\n",
              "      <th>release_date</th>\n",
              "      <th>date</th>\n",
              "    </tr>\n",
              "  </thead>\n",
              "  <tbody>\n",
              "    <tr>\n",
              "      <th>3</th>\n",
              "      <td>Waiting to Exhale</td>\n",
              "      <td>Cheated on, mistreated and stepped on, the wom...</td>\n",
              "      <td>34.0</td>\n",
              "      <td>6.1</td>\n",
              "      <td>16000000.0</td>\n",
              "      <td>Comedy</td>\n",
              "      <td>3.859495</td>\n",
              "      <td>Twentieth Century Fox Film Corporation</td>\n",
              "      <td>81452156.0</td>\n",
              "      <td>127.0</td>\n",
              "      <td>1995-12-22</td>\n",
              "      <td>1995</td>\n",
              "    </tr>\n",
              "    <tr>\n",
              "      <th>5</th>\n",
              "      <td>Heat</td>\n",
              "      <td>Obsessive master thief, Neil McCauley leads a ...</td>\n",
              "      <td>1886.0</td>\n",
              "      <td>7.7</td>\n",
              "      <td>60000000.0</td>\n",
              "      <td>Action</td>\n",
              "      <td>17.924927</td>\n",
              "      <td>Regency Enterprises</td>\n",
              "      <td>187436818.0</td>\n",
              "      <td>170.0</td>\n",
              "      <td>1995-12-15</td>\n",
              "      <td>1995</td>\n",
              "    </tr>\n",
              "    <tr>\n",
              "      <th>8</th>\n",
              "      <td>Sudden Death</td>\n",
              "      <td>International action superstar Jean Claude Van...</td>\n",
              "      <td>174.0</td>\n",
              "      <td>5.5</td>\n",
              "      <td>35000000.0</td>\n",
              "      <td>Action</td>\n",
              "      <td>5.231580</td>\n",
              "      <td>Universal Pictures</td>\n",
              "      <td>64350171.0</td>\n",
              "      <td>106.0</td>\n",
              "      <td>1995-12-22</td>\n",
              "      <td>1995</td>\n",
              "    </tr>\n",
              "    <tr>\n",
              "      <th>9</th>\n",
              "      <td>GoldenEye</td>\n",
              "      <td>James Bond must unmask the mysterious head of ...</td>\n",
              "      <td>1194.0</td>\n",
              "      <td>6.6</td>\n",
              "      <td>58000000.0</td>\n",
              "      <td>Adventure</td>\n",
              "      <td>14.686036</td>\n",
              "      <td>United Artists</td>\n",
              "      <td>352194034.0</td>\n",
              "      <td>130.0</td>\n",
              "      <td>1995-11-16</td>\n",
              "      <td>1995</td>\n",
              "    </tr>\n",
              "    <tr>\n",
              "      <th>10</th>\n",
              "      <td>The American President</td>\n",
              "      <td>Widowed U.S. president Andrew Shepherd, one of...</td>\n",
              "      <td>199.0</td>\n",
              "      <td>6.5</td>\n",
              "      <td>62000000.0</td>\n",
              "      <td>Comedy</td>\n",
              "      <td>6.318445</td>\n",
              "      <td>Columbia Pictures</td>\n",
              "      <td>107879496.0</td>\n",
              "      <td>106.0</td>\n",
              "      <td>1995-11-17</td>\n",
              "      <td>1995</td>\n",
              "    </tr>\n",
              "  </tbody>\n",
              "</table>\n",
              "</div>"
            ],
            "text/plain": [
              "            original_title  ...  date\n",
              "3        Waiting to Exhale  ...  1995\n",
              "5                     Heat  ...  1995\n",
              "8             Sudden Death  ...  1995\n",
              "9                GoldenEye  ...  1995\n",
              "10  The American President  ...  1995\n",
              "\n",
              "[5 rows x 12 columns]"
            ]
          },
          "metadata": {
            "tags": []
          },
          "execution_count": 285
        }
      ]
    },
    {
      "cell_type": "markdown",
      "metadata": {
        "id": "Z3dqdok6Y7_2",
        "colab_type": "text"
      },
      "source": [
        "## 4.0 Pre-Processing: Text"
      ]
    },
    {
      "cell_type": "markdown",
      "metadata": {
        "id": "7XLQHgzZuJoG",
        "colab_type": "text"
      },
      "source": [
        "### Text Cleaning for Overviews"
      ]
    },
    {
      "cell_type": "code",
      "metadata": {
        "id": "u_j1YQqNuO3B",
        "colab_type": "code",
        "colab": {
          "base_uri": "https://localhost:8080/",
          "height": 387
        },
        "outputId": "9bf925c2-1757-4f87-fd0b-5cd40c7c41d5"
      },
      "source": [
        "import re\n",
        "\n",
        "cleaned_text = [re.sub('[^A-Za-z\\s]', '', text) for text in overview_df['overview']]\n",
        "overview_df['cleaned_text'] = cleaned_text\n",
        "overview_df = overview_df.drop('overview', axis=1)\n",
        "overview_df.head()"
      ],
      "execution_count": 286,
      "outputs": [
        {
          "output_type": "stream",
          "text": [
            "/usr/local/lib/python3.6/dist-packages/ipykernel_launcher.py:4: SettingWithCopyWarning: \n",
            "A value is trying to be set on a copy of a slice from a DataFrame.\n",
            "Try using .loc[row_indexer,col_indexer] = value instead\n",
            "\n",
            "See the caveats in the documentation: https://pandas.pydata.org/pandas-docs/stable/user_guide/indexing.html#returning-a-view-versus-a-copy\n",
            "  after removing the cwd from sys.path.\n"
          ],
          "name": "stderr"
        },
        {
          "output_type": "execute_result",
          "data": {
            "text/html": [
              "<div>\n",
              "<style scoped>\n",
              "    .dataframe tbody tr th:only-of-type {\n",
              "        vertical-align: middle;\n",
              "    }\n",
              "\n",
              "    .dataframe tbody tr th {\n",
              "        vertical-align: top;\n",
              "    }\n",
              "\n",
              "    .dataframe thead th {\n",
              "        text-align: right;\n",
              "    }\n",
              "</style>\n",
              "<table border=\"1\" class=\"dataframe\">\n",
              "  <thead>\n",
              "    <tr style=\"text-align: right;\">\n",
              "      <th></th>\n",
              "      <th>original_title</th>\n",
              "      <th>vote_count</th>\n",
              "      <th>vote_average</th>\n",
              "      <th>budget</th>\n",
              "      <th>proc_genres</th>\n",
              "      <th>popularity</th>\n",
              "      <th>prod_companies</th>\n",
              "      <th>revenue</th>\n",
              "      <th>runtime</th>\n",
              "      <th>release_date</th>\n",
              "      <th>date</th>\n",
              "      <th>cleaned_text</th>\n",
              "    </tr>\n",
              "  </thead>\n",
              "  <tbody>\n",
              "    <tr>\n",
              "      <th>3</th>\n",
              "      <td>Waiting to Exhale</td>\n",
              "      <td>34.0</td>\n",
              "      <td>6.1</td>\n",
              "      <td>16000000.0</td>\n",
              "      <td>Comedy</td>\n",
              "      <td>3.859495</td>\n",
              "      <td>Twentieth Century Fox Film Corporation</td>\n",
              "      <td>81452156.0</td>\n",
              "      <td>127.0</td>\n",
              "      <td>1995-12-22</td>\n",
              "      <td>1995</td>\n",
              "      <td>Cheated on mistreated and stepped on the women...</td>\n",
              "    </tr>\n",
              "    <tr>\n",
              "      <th>5</th>\n",
              "      <td>Heat</td>\n",
              "      <td>1886.0</td>\n",
              "      <td>7.7</td>\n",
              "      <td>60000000.0</td>\n",
              "      <td>Action</td>\n",
              "      <td>17.924927</td>\n",
              "      <td>Regency Enterprises</td>\n",
              "      <td>187436818.0</td>\n",
              "      <td>170.0</td>\n",
              "      <td>1995-12-15</td>\n",
              "      <td>1995</td>\n",
              "      <td>Obsessive master thief Neil McCauley leads a t...</td>\n",
              "    </tr>\n",
              "    <tr>\n",
              "      <th>8</th>\n",
              "      <td>Sudden Death</td>\n",
              "      <td>174.0</td>\n",
              "      <td>5.5</td>\n",
              "      <td>35000000.0</td>\n",
              "      <td>Action</td>\n",
              "      <td>5.231580</td>\n",
              "      <td>Universal Pictures</td>\n",
              "      <td>64350171.0</td>\n",
              "      <td>106.0</td>\n",
              "      <td>1995-12-22</td>\n",
              "      <td>1995</td>\n",
              "      <td>International action superstar Jean Claude Van...</td>\n",
              "    </tr>\n",
              "    <tr>\n",
              "      <th>9</th>\n",
              "      <td>GoldenEye</td>\n",
              "      <td>1194.0</td>\n",
              "      <td>6.6</td>\n",
              "      <td>58000000.0</td>\n",
              "      <td>Adventure</td>\n",
              "      <td>14.686036</td>\n",
              "      <td>United Artists</td>\n",
              "      <td>352194034.0</td>\n",
              "      <td>130.0</td>\n",
              "      <td>1995-11-16</td>\n",
              "      <td>1995</td>\n",
              "      <td>James Bond must unmask the mysterious head of ...</td>\n",
              "    </tr>\n",
              "    <tr>\n",
              "      <th>10</th>\n",
              "      <td>The American President</td>\n",
              "      <td>199.0</td>\n",
              "      <td>6.5</td>\n",
              "      <td>62000000.0</td>\n",
              "      <td>Comedy</td>\n",
              "      <td>6.318445</td>\n",
              "      <td>Columbia Pictures</td>\n",
              "      <td>107879496.0</td>\n",
              "      <td>106.0</td>\n",
              "      <td>1995-11-17</td>\n",
              "      <td>1995</td>\n",
              "      <td>Widowed US president Andrew Shepherd one of th...</td>\n",
              "    </tr>\n",
              "  </tbody>\n",
              "</table>\n",
              "</div>"
            ],
            "text/plain": [
              "            original_title  ...                                       cleaned_text\n",
              "3        Waiting to Exhale  ...  Cheated on mistreated and stepped on the women...\n",
              "5                     Heat  ...  Obsessive master thief Neil McCauley leads a t...\n",
              "8             Sudden Death  ...  International action superstar Jean Claude Van...\n",
              "9                GoldenEye  ...  James Bond must unmask the mysterious head of ...\n",
              "10  The American President  ...  Widowed US president Andrew Shepherd one of th...\n",
              "\n",
              "[5 rows x 12 columns]"
            ]
          },
          "metadata": {
            "tags": []
          },
          "execution_count": 286
        }
      ]
    },
    {
      "cell_type": "markdown",
      "metadata": {
        "id": "9j62V19rpmoD",
        "colab_type": "text"
      },
      "source": [
        "### Lemmatize Text"
      ]
    },
    {
      "cell_type": "code",
      "metadata": {
        "id": "2YwhcPH0rRad",
        "colab_type": "code",
        "colab": {
          "base_uri": "https://localhost:8080/",
          "height": 141
        },
        "outputId": "6e298a03-023e-48b2-ab83-660a10d6cbf5"
      },
      "source": [
        "import nltk\n",
        "\n",
        "nltk.download('wordnet')\n",
        "nltk.download('averaged_perceptron_tagger')"
      ],
      "execution_count": 287,
      "outputs": [
        {
          "output_type": "stream",
          "text": [
            "[nltk_data] Downloading package wordnet to /root/nltk_data...\n",
            "[nltk_data]   Package wordnet is already up-to-date!\n",
            "[nltk_data] Downloading package averaged_perceptron_tagger to\n",
            "[nltk_data]     /root/nltk_data...\n",
            "[nltk_data]   Package averaged_perceptron_tagger is already up-to-\n",
            "[nltk_data]       date!\n"
          ],
          "name": "stdout"
        },
        {
          "output_type": "execute_result",
          "data": {
            "text/plain": [
              "True"
            ]
          },
          "metadata": {
            "tags": []
          },
          "execution_count": 287
        }
      ]
    },
    {
      "cell_type": "code",
      "metadata": {
        "id": "ubttjORapmFf",
        "colab_type": "code",
        "colab": {
          "base_uri": "https://localhost:8080/",
          "height": 364
        },
        "outputId": "b7e0c82e-73fb-40e5-8f6b-ff5d5b45bd1f"
      },
      "source": [
        "from nltk.corpus import wordnet\n",
        "from nltk.stem.wordnet import WordNetLemmatizer\n",
        "from nltk.tag import pos_tag\n",
        "\n",
        "# Tokenize and POS Tags\n",
        "tokenized_text = [text.split() for text in overview_df['cleaned_text']]\n",
        "tok_texts = [pos_tag(tok_text) for tok_text in tokenized_text]\n",
        "\n",
        "# POS Func\n",
        "def get_wordnet_pos(treebank_tag):\n",
        "    if treebank_tag.startswith('J'):\n",
        "        return wordnet.ADJ\n",
        "    elif treebank_tag.startswith('V'):\n",
        "        return wordnet.VERB\n",
        "    elif treebank_tag.startswith('N'):\n",
        "        return wordnet.NOUN\n",
        "    elif treebank_tag.startswith('R'):\n",
        "        return wordnet.ADV\n",
        "    else:\n",
        "        return word\n",
        "\n",
        "# Lemmatize with POS Tags\n",
        "lemmatizer = WordNetLemmatizer()\n",
        "lemmatized_text = []\n",
        "for text in tok_texts:\n",
        "  tmp_sent = []\n",
        "  for tupl in text:\n",
        "    word = tupl[0]\n",
        "    pos = tupl[1]\n",
        "    try:\n",
        "      lemm_word = lemmatizer.lemmatize(word, get_wordnet_pos(pos))\n",
        "    except:\n",
        "      lemm_word = word\n",
        "    tmp_sent.append(lemm_word)\n",
        "  full_sent = ' '.join(tmp_sent)\n",
        "  lemmatized_text.append(full_sent)\n",
        "\n",
        "# Create New Col in DF\n",
        "overview_df['lemm_text'] = lemmatized_text\n",
        "overview_df = overview_df.reset_index(drop=True)\n",
        "overview_df.head()"
      ],
      "execution_count": 288,
      "outputs": [
        {
          "output_type": "execute_result",
          "data": {
            "text/html": [
              "<div>\n",
              "<style scoped>\n",
              "    .dataframe tbody tr th:only-of-type {\n",
              "        vertical-align: middle;\n",
              "    }\n",
              "\n",
              "    .dataframe tbody tr th {\n",
              "        vertical-align: top;\n",
              "    }\n",
              "\n",
              "    .dataframe thead th {\n",
              "        text-align: right;\n",
              "    }\n",
              "</style>\n",
              "<table border=\"1\" class=\"dataframe\">\n",
              "  <thead>\n",
              "    <tr style=\"text-align: right;\">\n",
              "      <th></th>\n",
              "      <th>original_title</th>\n",
              "      <th>vote_count</th>\n",
              "      <th>vote_average</th>\n",
              "      <th>budget</th>\n",
              "      <th>proc_genres</th>\n",
              "      <th>popularity</th>\n",
              "      <th>prod_companies</th>\n",
              "      <th>revenue</th>\n",
              "      <th>runtime</th>\n",
              "      <th>release_date</th>\n",
              "      <th>date</th>\n",
              "      <th>cleaned_text</th>\n",
              "      <th>lemm_text</th>\n",
              "    </tr>\n",
              "  </thead>\n",
              "  <tbody>\n",
              "    <tr>\n",
              "      <th>0</th>\n",
              "      <td>Waiting to Exhale</td>\n",
              "      <td>34.0</td>\n",
              "      <td>6.1</td>\n",
              "      <td>16000000.0</td>\n",
              "      <td>Comedy</td>\n",
              "      <td>3.859495</td>\n",
              "      <td>Twentieth Century Fox Film Corporation</td>\n",
              "      <td>81452156.0</td>\n",
              "      <td>127.0</td>\n",
              "      <td>1995-12-22</td>\n",
              "      <td>1995</td>\n",
              "      <td>Cheated on mistreated and stepped on the women...</td>\n",
              "      <td>Cheated on mistreat and step on the woman be h...</td>\n",
              "    </tr>\n",
              "    <tr>\n",
              "      <th>1</th>\n",
              "      <td>Heat</td>\n",
              "      <td>1886.0</td>\n",
              "      <td>7.7</td>\n",
              "      <td>60000000.0</td>\n",
              "      <td>Action</td>\n",
              "      <td>17.924927</td>\n",
              "      <td>Regency Enterprises</td>\n",
              "      <td>187436818.0</td>\n",
              "      <td>170.0</td>\n",
              "      <td>1995-12-15</td>\n",
              "      <td>1995</td>\n",
              "      <td>Obsessive master thief Neil McCauley leads a t...</td>\n",
              "      <td>Obsessive master thief Neil McCauley lead a to...</td>\n",
              "    </tr>\n",
              "    <tr>\n",
              "      <th>2</th>\n",
              "      <td>Sudden Death</td>\n",
              "      <td>174.0</td>\n",
              "      <td>5.5</td>\n",
              "      <td>35000000.0</td>\n",
              "      <td>Action</td>\n",
              "      <td>5.231580</td>\n",
              "      <td>Universal Pictures</td>\n",
              "      <td>64350171.0</td>\n",
              "      <td>106.0</td>\n",
              "      <td>1995-12-22</td>\n",
              "      <td>1995</td>\n",
              "      <td>International action superstar Jean Claude Van...</td>\n",
              "      <td>International action superstar Jean Claude Van...</td>\n",
              "    </tr>\n",
              "    <tr>\n",
              "      <th>3</th>\n",
              "      <td>GoldenEye</td>\n",
              "      <td>1194.0</td>\n",
              "      <td>6.6</td>\n",
              "      <td>58000000.0</td>\n",
              "      <td>Adventure</td>\n",
              "      <td>14.686036</td>\n",
              "      <td>United Artists</td>\n",
              "      <td>352194034.0</td>\n",
              "      <td>130.0</td>\n",
              "      <td>1995-11-16</td>\n",
              "      <td>1995</td>\n",
              "      <td>James Bond must unmask the mysterious head of ...</td>\n",
              "      <td>James Bond must unmask the mysterious head of ...</td>\n",
              "    </tr>\n",
              "    <tr>\n",
              "      <th>4</th>\n",
              "      <td>The American President</td>\n",
              "      <td>199.0</td>\n",
              "      <td>6.5</td>\n",
              "      <td>62000000.0</td>\n",
              "      <td>Comedy</td>\n",
              "      <td>6.318445</td>\n",
              "      <td>Columbia Pictures</td>\n",
              "      <td>107879496.0</td>\n",
              "      <td>106.0</td>\n",
              "      <td>1995-11-17</td>\n",
              "      <td>1995</td>\n",
              "      <td>Widowed US president Andrew Shepherd one of th...</td>\n",
              "      <td>Widowed US president Andrew Shepherd one of th...</td>\n",
              "    </tr>\n",
              "  </tbody>\n",
              "</table>\n",
              "</div>"
            ],
            "text/plain": [
              "           original_title  ...                                          lemm_text\n",
              "0       Waiting to Exhale  ...  Cheated on mistreat and step on the woman be h...\n",
              "1                    Heat  ...  Obsessive master thief Neil McCauley lead a to...\n",
              "2            Sudden Death  ...  International action superstar Jean Claude Van...\n",
              "3               GoldenEye  ...  James Bond must unmask the mysterious head of ...\n",
              "4  The American President  ...  Widowed US president Andrew Shepherd one of th...\n",
              "\n",
              "[5 rows x 13 columns]"
            ]
          },
          "metadata": {
            "tags": []
          },
          "execution_count": 288
        }
      ]
    },
    {
      "cell_type": "markdown",
      "metadata": {
        "id": "bKI_6ewNZWMk",
        "colab_type": "text"
      },
      "source": [
        "## 5.0 Model Selection"
      ]
    },
    {
      "cell_type": "markdown",
      "metadata": {
        "id": "b8ltlIlk1XtX",
        "colab_type": "text"
      },
      "source": [
        "### Train Test Split for Model Selection"
      ]
    },
    {
      "cell_type": "code",
      "metadata": {
        "id": "ImKYvKqy0sVT",
        "colab_type": "code",
        "colab": {}
      },
      "source": [
        "from sklearn.model_selection import train_test_split\n",
        "\n",
        "trim_df = overview_df.drop(['original_title', 'cleaned_text'], axis=1)\n",
        "\n",
        "X = trim_df.drop('vote_average', axis=1)\n",
        "y = trim_df['vote_average'].values\n",
        "\n",
        "X_train_full, X_test, y_train_full, y_test = train_test_split(X, y, test_size=0.05, random_state=42)\n",
        "X_train, X_val, y_train, y_val = train_test_split(X_train_full, y_train_full, test_size=0.15, random_state=42)"
      ],
      "execution_count": 289,
      "outputs": []
    },
    {
      "cell_type": "markdown",
      "metadata": {
        "id": "UR_YngUv1Vvc",
        "colab_type": "text"
      },
      "source": [
        "### Preprocessor: Numerical, Categorical, and Textual Data"
      ]
    },
    {
      "cell_type": "code",
      "metadata": {
        "id": "lcKpMVqH1aPn",
        "colab_type": "code",
        "colab": {}
      },
      "source": [
        "from sklearn.compose import make_column_transformer\n",
        "from sklearn.pipeline import make_pipeline\n",
        "from sklearn.preprocessing import OneHotEncoder, MinMaxScaler\n",
        "from sklearn.feature_extraction.text import TfidfVectorizer\n",
        "from sklearn.impute import SimpleImputer\n",
        "\n",
        "num_cols = X_train.dtypes == float\n",
        "cat_cols = ~num_cols\n",
        "cat_cols[-1] = False\n",
        "text_cols = 'lemm_text'\n",
        "max_text_feats = 512\n",
        "\n",
        "num_preprocessor = make_pipeline(MinMaxScaler(), SimpleImputer(strategy='median'))\n",
        "cat_preprocessor = make_pipeline(SimpleImputer(strategy='constant'), OneHotEncoder(handle_unknown='ignore'))\n",
        "text_preprocessor = TfidfVectorizer(stop_words='english', ngram_range=(1,2), max_features=max_text_feats)\n",
        "\n",
        "preprocessor = make_column_transformer((num_preprocessor, num_cols),\n",
        "                                       (cat_preprocessor, cat_cols),\n",
        "                                       (text_preprocessor, text_cols))"
      ],
      "execution_count": 290,
      "outputs": []
    },
    {
      "cell_type": "markdown",
      "metadata": {
        "id": "7xsbhb8MJ6Nj",
        "colab_type": "text"
      },
      "source": [
        "### Linear Model"
      ]
    },
    {
      "cell_type": "code",
      "metadata": {
        "id": "hkfI0BeTIUwc",
        "colab_type": "code",
        "colab": {
          "base_uri": "https://localhost:8080/",
          "height": 34
        },
        "outputId": "fbde219b-e9d0-49b7-86f6-57f742b13afb"
      },
      "source": [
        "from sklearn.svm import LinearSVR\n",
        "from sklearn.model_selection import GridSearchCV\n",
        "\n",
        "pipe = make_pipeline(preprocessor, LinearSVR())\n",
        "param_grid = {'linearsvr__C': np.logspace(-2,-1,3)}\n",
        "grid = GridSearchCV(pipe, param_grid, cv=3).fit(X_train, y_train)\n",
        "grid.best_score_, grid.best_params_"
      ],
      "execution_count": 291,
      "outputs": [
        {
          "output_type": "execute_result",
          "data": {
            "text/plain": [
              "(0.36737458847972126, {'linearsvr__C': 0.1})"
            ]
          },
          "metadata": {
            "tags": []
          },
          "execution_count": 291
        }
      ]
    },
    {
      "cell_type": "markdown",
      "metadata": {
        "id": "nrxU-AvnV7C1",
        "colab_type": "text"
      },
      "source": [
        "### Dense-ify matrices for Keras"
      ]
    },
    {
      "cell_type": "code",
      "metadata": {
        "id": "nt8NFX8qV6NO",
        "colab_type": "code",
        "colab": {
          "base_uri": "https://localhost:8080/",
          "height": 34
        },
        "outputId": "86e78a94-abe8-440f-bf4c-e783629b624b"
      },
      "source": [
        "train_matrix = preprocessor.fit_transform(X_train, y_train).todense()\n",
        "val_matrix = preprocessor.transform(X_val).todense()\n",
        "train_matrix.shape"
      ],
      "execution_count": 292,
      "outputs": [
        {
          "output_type": "execute_result",
          "data": {
            "text/plain": [
              "(3140, 3224)"
            ]
          },
          "metadata": {
            "tags": []
          },
          "execution_count": 292
        }
      ]
    },
    {
      "cell_type": "markdown",
      "metadata": {
        "id": "0dISOQEnV-1I",
        "colab_type": "text"
      },
      "source": [
        "### Keras Model"
      ]
    },
    {
      "cell_type": "code",
      "metadata": {
        "id": "9DGk6G_PKDCE",
        "colab_type": "code",
        "colab": {
          "base_uri": "https://localhost:8080/",
          "height": 621
        },
        "outputId": "b9a6e798-8fb8-414c-addb-e175895a8c00"
      },
      "source": [
        "from tensorflow import keras\n",
        "from keras.models import Sequential\n",
        "from keras.layers import Dense, Dropout\n",
        "from keras.callbacks import EarlyStopping\n",
        "\n",
        "# Model Hyperparams\n",
        "n_neurons = 128\n",
        "n_layers = 1\n",
        "dropout_rate = 0.5\n",
        "\n",
        "# Model\n",
        "model = Sequential()\n",
        "for _ in range(n_layers):\n",
        "  model.add(Dense(n_neurons, activation='relu', kernel_initializer='he_normal'))\n",
        "  model.add(Dropout(dropout_rate))\n",
        "model.add(Dense(1))\n",
        "\n",
        "earlystopping_cb = EarlyStopping(patience=5, monitor='val_loss', restore_best_weights=True)\n",
        "loss = keras.losses.MeanSquaredError()\n",
        "metric = keras.metrics.MeanSquaredError()\n",
        "model.compile(loss='mse', optimizer='adamax', metrics=['mse'])\n",
        "\n",
        "# Training Hyperparams\n",
        "epochs = 20\n",
        "batch_size = 16\n",
        "model.fit(train_matrix, y_train, validation_data=(val_matrix, y_val), epochs=epochs, batch_size=batch_size, callbacks=[earlystopping_cb])"
      ],
      "execution_count": 308,
      "outputs": [
        {
          "output_type": "stream",
          "text": [
            "Train on 3140 samples, validate on 555 samples\n",
            "Epoch 1/20\n",
            "3140/3140 [==============================] - 1s 182us/step - loss: 8.4381 - mse: 8.4381 - val_loss: 1.1393 - val_mse: 1.1393\n",
            "Epoch 2/20\n",
            "3140/3140 [==============================] - 0s 158us/step - loss: 1.3902 - mse: 1.3902 - val_loss: 0.8246 - val_mse: 0.8246\n",
            "Epoch 3/20\n",
            "3140/3140 [==============================] - 0s 158us/step - loss: 1.1714 - mse: 1.1714 - val_loss: 0.6731 - val_mse: 0.6731\n",
            "Epoch 4/20\n",
            "3140/3140 [==============================] - 0s 155us/step - loss: 1.0055 - mse: 1.0055 - val_loss: 0.5893 - val_mse: 0.5893\n",
            "Epoch 5/20\n",
            "3140/3140 [==============================] - 0s 156us/step - loss: 0.9299 - mse: 0.9299 - val_loss: 0.5410 - val_mse: 0.5410\n",
            "Epoch 6/20\n",
            "3140/3140 [==============================] - 0s 156us/step - loss: 0.8544 - mse: 0.8544 - val_loss: 0.5090 - val_mse: 0.5090\n",
            "Epoch 7/20\n",
            "3140/3140 [==============================] - 0s 157us/step - loss: 0.8248 - mse: 0.8248 - val_loss: 0.5129 - val_mse: 0.5129\n",
            "Epoch 8/20\n",
            "3140/3140 [==============================] - 0s 157us/step - loss: 0.8225 - mse: 0.8225 - val_loss: 0.4970 - val_mse: 0.4970\n",
            "Epoch 9/20\n",
            "3140/3140 [==============================] - 0s 158us/step - loss: 0.7816 - mse: 0.7816 - val_loss: 0.5019 - val_mse: 0.5019\n",
            "Epoch 10/20\n",
            "3140/3140 [==============================] - 0s 155us/step - loss: 0.7852 - mse: 0.7852 - val_loss: 0.5039 - val_mse: 0.5039\n",
            "Epoch 11/20\n",
            "3140/3140 [==============================] - 0s 157us/step - loss: 0.7676 - mse: 0.7676 - val_loss: 0.4847 - val_mse: 0.4847\n",
            "Epoch 12/20\n",
            "3140/3140 [==============================] - 0s 159us/step - loss: 0.7269 - mse: 0.7269 - val_loss: 0.4855 - val_mse: 0.4855\n",
            "Epoch 13/20\n",
            "3140/3140 [==============================] - 0s 156us/step - loss: 0.7045 - mse: 0.7045 - val_loss: 0.5004 - val_mse: 0.5004\n",
            "Epoch 14/20\n",
            "3140/3140 [==============================] - 0s 158us/step - loss: 0.7063 - mse: 0.7063 - val_loss: 0.4928 - val_mse: 0.4928\n",
            "Epoch 15/20\n",
            "3140/3140 [==============================] - 0s 158us/step - loss: 0.6790 - mse: 0.6790 - val_loss: 0.4871 - val_mse: 0.4871\n",
            "Epoch 16/20\n",
            "3140/3140 [==============================] - 0s 158us/step - loss: 0.7033 - mse: 0.7033 - val_loss: 0.4876 - val_mse: 0.4876\n"
          ],
          "name": "stdout"
        },
        {
          "output_type": "execute_result",
          "data": {
            "text/plain": [
              "<keras.callbacks.callbacks.History at 0x7f842c6247b8>"
            ]
          },
          "metadata": {
            "tags": []
          },
          "execution_count": 308
        }
      ]
    },
    {
      "cell_type": "code",
      "metadata": {
        "id": "e3tbDjpvY-4N",
        "colab_type": "code",
        "colab": {
          "base_uri": "https://localhost:8080/",
          "height": 52
        },
        "outputId": "86221f20-9412-41ae-bb09-91ce8970ede1"
      },
      "source": [
        "from sklearn.metrics import r2_score\n",
        "\n",
        "y_train_pred = model.predict(train_matrix)\n",
        "y_val_pred = model.predict(val_matrix)\n",
        "print(f'Train r2 score: {r2_score(y_train, y_train_pred)}\\nVal r2 score: {r2_score(y_val, y_val_pred)}')"
      ],
      "execution_count": 309,
      "outputs": [
        {
          "output_type": "stream",
          "text": [
            "Train r2 score: 0.6063940920886468\n",
            "Val r2 score: 0.32326245616994254\n"
          ],
          "name": "stdout"
        }
      ]
    },
    {
      "cell_type": "markdown",
      "metadata": {
        "id": "25FOK9BBqBil",
        "colab_type": "text"
      },
      "source": [
        "### XGBRegressor"
      ]
    },
    {
      "cell_type": "code",
      "metadata": {
        "id": "vSGZTB44p1kU",
        "colab_type": "code",
        "colab": {
          "base_uri": "https://localhost:8080/",
          "height": 70
        },
        "outputId": "f7e32e25-3e9b-4c33-caa5-48b23f00333a"
      },
      "source": [
        "! pip install xgboost"
      ],
      "execution_count": 310,
      "outputs": [
        {
          "output_type": "stream",
          "text": [
            "Requirement already satisfied: xgboost in /usr/local/lib/python3.6/dist-packages (0.90)\n",
            "Requirement already satisfied: scipy in /usr/local/lib/python3.6/dist-packages (from xgboost) (1.4.1)\n",
            "Requirement already satisfied: numpy in /usr/local/lib/python3.6/dist-packages (from xgboost) (1.18.5)\n"
          ],
          "name": "stdout"
        }
      ]
    },
    {
      "cell_type": "code",
      "metadata": {
        "id": "p4bfoPkWpzaQ",
        "colab_type": "code",
        "colab": {
          "base_uri": "https://localhost:8080/",
          "height": 158
        },
        "outputId": "ad463efc-0958-4e3b-9883-7e0a353896ab"
      },
      "source": [
        "from xgboost import XGBRegressor\n",
        "\n",
        "pipe = make_pipeline(preprocessor, XGBRegressor())\n",
        "param_grid = {'xgbregressor__max_depth': [4, 6]}\n",
        "grid = GridSearchCV(pipe, param_grid, cv=3).fit(X_train, y_train)\n",
        "grid.best_score_, grid.best_params_"
      ],
      "execution_count": 312,
      "outputs": [
        {
          "output_type": "stream",
          "text": [
            "[23:00:25] WARNING: /workspace/src/objective/regression_obj.cu:152: reg:linear is now deprecated in favor of reg:squarederror.\n",
            "[23:00:26] WARNING: /workspace/src/objective/regression_obj.cu:152: reg:linear is now deprecated in favor of reg:squarederror.\n",
            "[23:00:27] WARNING: /workspace/src/objective/regression_obj.cu:152: reg:linear is now deprecated in favor of reg:squarederror.\n",
            "[23:00:28] WARNING: /workspace/src/objective/regression_obj.cu:152: reg:linear is now deprecated in favor of reg:squarederror.\n",
            "[23:00:30] WARNING: /workspace/src/objective/regression_obj.cu:152: reg:linear is now deprecated in favor of reg:squarederror.\n",
            "[23:00:31] WARNING: /workspace/src/objective/regression_obj.cu:152: reg:linear is now deprecated in favor of reg:squarederror.\n",
            "[23:00:33] WARNING: /workspace/src/objective/regression_obj.cu:152: reg:linear is now deprecated in favor of reg:squarederror.\n"
          ],
          "name": "stdout"
        },
        {
          "output_type": "execute_result",
          "data": {
            "text/plain": [
              "(0.413020829798441, {'xgbregressor__max_depth': 4})"
            ]
          },
          "metadata": {
            "tags": []
          },
          "execution_count": 312
        }
      ]
    },
    {
      "cell_type": "markdown",
      "metadata": {
        "id": "XhUD_mnmqFXs",
        "colab_type": "text"
      },
      "source": [
        "## 7.0 Best Model Performance"
      ]
    },
    {
      "cell_type": "code",
      "metadata": {
        "id": "QmwL2j8tqHPX",
        "colab_type": "code",
        "colab": {
          "base_uri": "https://localhost:8080/",
          "height": 70
        },
        "outputId": "40846cac-a1af-406a-bf9a-db0445cd43fa"
      },
      "source": [
        "from sklearn.metrics import r2_score\n",
        "\n",
        "y_train_score = grid.score(X_train, y_train)\n",
        "y_val_score = grid.score(X_val, y_val)\n",
        "y_test_score = grid.score(X_test, y_test)\n",
        "\n",
        "print(f'Train score: {y_train_score}\\nVal score: {y_val_score}\\nTest score: {y_test_score}')"
      ],
      "execution_count": 314,
      "outputs": [
        {
          "output_type": "stream",
          "text": [
            "Train score: 0.6598759071955964\n",
            "Val score: 0.43829933379536357\n",
            "Test score: 0.4164840138087448\n"
          ],
          "name": "stdout"
        }
      ]
    }
  ]
}